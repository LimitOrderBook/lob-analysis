{
 "cells": [
  {
   "cell_type": "code",
   "execution_count": 1,
   "metadata": {},
   "outputs": [],
   "source": [
    "import os\n",
    "import importlib\n",
    "os.chdir('../app')"
   ]
  },
  {
   "cell_type": "code",
   "execution_count": 2,
   "metadata": {},
   "outputs": [],
   "source": [
    "import preprocessing.preglobal as pg"
   ]
  },
  {
   "cell_type": "code",
   "execution_count": 3,
   "metadata": {},
   "outputs": [],
   "source": [
    "import task_lib as tl"
   ]
  },
  {
   "cell_type": "code",
   "execution_count": 4,
   "metadata": {},
   "outputs": [],
   "source": [
    "import fit_lib as fl"
   ]
  },
  {
   "cell_type": "code",
   "execution_count": 34,
   "metadata": {},
   "outputs": [
    {
     "data": {
      "text/plain": [
       "<module 'task_lib' from '/home/jovyan/MasterThesis/MasterThesis/analysis/task_lib.py'>"
      ]
     },
     "execution_count": 34,
     "metadata": {},
     "output_type": "execute_result"
    }
   ],
   "source": [
    "importlib.reload(fl)\n",
    "importlib.reload(tl)"
   ]
  },
  {
   "cell_type": "code",
   "execution_count": 40,
   "metadata": {},
   "outputs": [
    {
     "name": "stdout",
     "output_type": "stream",
     "text": [
      "python3 /home/jovyan/MasterThesis/MasterThesis/analysis/task_lib.py 616de0292d0d9900aee938db\n",
      "python3 /home/jovyan/MasterThesis/MasterThesis/analysis/task_lib.py 616de0292d0d9900aee938dc\n",
      "python3 /home/jovyan/MasterThesis/MasterThesis/analysis/task_lib.py 616de0292d0d9900aee938dd\n",
      "python3 /home/jovyan/MasterThesis/MasterThesis/analysis/task_lib.py 616de0292d0d9900aee938de\n",
      "python3 /home/jovyan/MasterThesis/MasterThesis/analysis/task_lib.py 616de0292d0d9900aee938df\n",
      "python3 /home/jovyan/MasterThesis/MasterThesis/analysis/task_lib.py 616de0292d0d9900aee938e0\n",
      "python3 /home/jovyan/MasterThesis/MasterThesis/analysis/task_lib.py 616de0292d0d9900aee938e1\n",
      "python3 /home/jovyan/MasterThesis/MasterThesis/analysis/task_lib.py 616de0292d0d9900aee938e2\n",
      "python3 /home/jovyan/MasterThesis/MasterThesis/analysis/task_lib.py 616de0292d0d9900aee938e3\n",
      "python3 /home/jovyan/MasterThesis/MasterThesis/analysis/task_lib.py 616de0292d0d9900aee938e4\n",
      "python3 /home/jovyan/MasterThesis/MasterThesis/analysis/task_lib.py 616de0292d0d9900aee938e5\n",
      "python3 /home/jovyan/MasterThesis/MasterThesis/analysis/task_lib.py 616de0292d0d9900aee938e6\n",
      "python3 /home/jovyan/MasterThesis/MasterThesis/analysis/task_lib.py 616de0292d0d9900aee938e7\n",
      "python3 /home/jovyan/MasterThesis/MasterThesis/analysis/task_lib.py 616de0292d0d9900aee938e8\n",
      "python3 /home/jovyan/MasterThesis/MasterThesis/analysis/task_lib.py 616de0292d0d9900aee938e9\n",
      "python3 /home/jovyan/MasterThesis/MasterThesis/analysis/task_lib.py 616de0292d0d9900aee938ea\n",
      "python3 /home/jovyan/MasterThesis/MasterThesis/analysis/task_lib.py 616de0292d0d9900aee938eb\n",
      "python3 /home/jovyan/MasterThesis/MasterThesis/analysis/task_lib.py 616de0292d0d9900aee938ec\n",
      "python3 /home/jovyan/MasterThesis/MasterThesis/analysis/task_lib.py 616de0292d0d9900aee938ed\n",
      "python3 /home/jovyan/MasterThesis/MasterThesis/analysis/task_lib.py 616de0292d0d9900aee938ee\n",
      "python3 /home/jovyan/MasterThesis/MasterThesis/analysis/task_lib.py 616de0292d0d9900aee938ef\n",
      "python3 /home/jovyan/MasterThesis/MasterThesis/analysis/task_lib.py 616de0292d0d9900aee938f0\n",
      "python3 /home/jovyan/MasterThesis/MasterThesis/analysis/task_lib.py 616de0292d0d9900aee938f1\n",
      "python3 /home/jovyan/MasterThesis/MasterThesis/analysis/task_lib.py 616de0292d0d9900aee938f2\n",
      "python3 /home/jovyan/MasterThesis/MasterThesis/analysis/task_lib.py 616de0292d0d9900aee938f3\n",
      "python3 /home/jovyan/MasterThesis/MasterThesis/analysis/task_lib.py 616de0292d0d9900aee938f4\n",
      "python3 /home/jovyan/MasterThesis/MasterThesis/analysis/task_lib.py 616de0292d0d9900aee938f5\n",
      "python3 /home/jovyan/MasterThesis/MasterThesis/analysis/task_lib.py 616de0292d0d9900aee938f6\n",
      "python3 /home/jovyan/MasterThesis/MasterThesis/analysis/task_lib.py 616de0292d0d9900aee938f7\n",
      "python3 /home/jovyan/MasterThesis/MasterThesis/analysis/task_lib.py 616de0292d0d9900aee938f8\n"
     ]
    }
   ],
   "source": [
    "tl.execute_tasks() # RUN AFTER TASKS ARE ADDED TO SPAWN TASKS"
   ]
  },
  {
   "cell_type": "code",
   "execution_count": null,
   "metadata": {},
   "outputs": [],
   "source": []
  },
  {
   "cell_type": "code",
   "execution_count": 55,
   "metadata": {},
   "outputs": [],
   "source": [
    "## MLE FITS - done\n",
    "\n",
    "mle_fit_params = {\n",
    "    'fit_book_notfixed':{\n",
    "        'fitparameter':{\n",
    "            'method':'mle',\n",
    "            'book_convention':True,\n",
    "            'fix_phi_dash':False\n",
    "        }},\n",
    "    'fit_book_fixed':{\n",
    "        'fitparameter':{\n",
    "            'method':'mle',\n",
    "            'book_convention':True,\n",
    "            'fix_phi_dash':True\n",
    "        }},\n",
    "    'fit_corrected_fixed': {\n",
    "        'fitparameter':{\n",
    "            'method':'mle',\n",
    "            'book_convention':False,\n",
    "            'fix_phi_dash':True\n",
    "        }},\n",
    "    'fit_corrected_notfixed': {\n",
    "        'fitparameter':{\n",
    "            'method':'mle',\n",
    "            'book_convention':False,\n",
    "            'fix_phi_dash':False\n",
    "        }},\n",
    "}"
   ]
  },
  {
   "cell_type": "code",
   "execution_count": 57,
   "metadata": {},
   "outputs": [],
   "source": [
    "for i in pg.get_kn_entries({'selected':1}):\n",
    "    task = {\n",
    "    'task':'fit',\n",
    "    'id':i['id'],\n",
    "    'start':10.5*3600*1000,\n",
    "    'stop':12.5*3600*1000\n",
    "    }\n",
    "    for k,v in mle_fit_params.items():\n",
    "        taski = task.copy()\n",
    "        taski['name'] = k\n",
    "        for kk,vv in v['fitparameter'].items():\n",
    "            taski[kk] = vv\n",
    "        tl.add_task(taski)\n",
    "    "
   ]
  },
  {
   "cell_type": "code",
   "execution_count": null,
   "metadata": {},
   "outputs": [],
   "source": [
    "## COVARIANCE - done\n",
    "for i in pg.get_kn_entries({'selected':1}):\n",
    "    task = {\n",
    "    'task':'covariance',\n",
    "    'id':i['id'],\n",
    "    'start':10.5*3600*1000,\n",
    "    'stop':12.5*3600*1000\n",
    "    }\n",
    "    tl.add_task(task)\n",
    "    "
   ]
  },
  {
   "cell_type": "code",
   "execution_count": 35,
   "metadata": {},
   "outputs": [],
   "source": [
    "## MOMENT FITS - todo, after fit of moments is repaired\n",
    "\n",
    "for i in pg.get_kn_entries({'selected':1}):\n",
    "    task = {\n",
    "    'id':i['id'],\n",
    "    'task':'fit',\n",
    "    'method':'moments',\n",
    "    'start':10.5*3600*1000,\n",
    "    'stop':12.5*3600*1000,\n",
    "    'loadcachedcovariance':False,\n",
    "    'powerfit':False,\n",
    "    'lsqfit':True,\n",
    "    'directcovar':True,\n",
    "    'dt_range':[0.001,0.002,0.004]\n",
    "}\n",
    "    tl.add_task(task)\n",
    "\n",
    "for i in pg.get_kn_entries({'selected':1}):\n",
    "    task = {\n",
    "    'id':i['id'],\n",
    "    'task':'fit',\n",
    "    'method':'moments',\n",
    "    'start':10.5*3600*1000,\n",
    "    'stop':12.5*3600*1000,\n",
    "    'loadcachedcovariance':False,\n",
    "    'powerfit':True,\n",
    "    'lsqfit':False,\n",
    "    'directcovar':True,\n",
    "    'dt_range':[0.001,0.002,0.004]\n",
    "}\n",
    "    tl.add_task(task)"
   ]
  },
  {
   "cell_type": "code",
   "execution_count": 82,
   "metadata": {},
   "outputs": [],
   "source": []
  },
  {
   "cell_type": "code",
   "execution_count": 43,
   "metadata": {
    "scrolled": false
   },
   "outputs": [
    {
     "name": "stdout",
     "output_type": "stream",
     "text": [
      "0\n"
     ]
    }
   ],
   "source": [
    "# CREATE SIMULATION FOR MOMENT OR MLE FIT RESULTS - IF NOT ALREADY SIMULATED\n",
    "\n",
    "tbl = tl.dbconnect()\n",
    "tasks = list(\n",
    "        tbl.aggregate([{\"$match\":{\"status\":3,\"error\":None}},{\"$sort\":{\"task.id\":1}}])\n",
    "    )\n",
    "\n",
    "c = 0\n",
    "for i in tasks:\n",
    "    if 'method' not in i['task']:\n",
    "        continue\n",
    "    if len([t for t in tasks if 'origin' in t['task']and t['task']['task'] == 'simulate' and t['task']['origin']['id'] == i['_id']]) > 0:\n",
    "        continue\n",
    "    \n",
    "    \n",
    "    if i['task']['method'] == 'moments':\n",
    "        for k,v in i['result']['g_params'].items():\n",
    "            task = {'origin':{'id':i['_id'],'fit':k, 'task':i['task']}, 'task':'simulate', 'id':i['task']['id'], 'start':i['task']['start'], 'stop':i['task']['stop']}\n",
    "            task['g_params'] = v\n",
    "            print('nosimyet', task)\n",
    "            c+=1\n",
    "            #tl.add_task(task)\n",
    "        \n",
    "    if i['task']['method'] == 'mle':\n",
    "        task = {'origin':{'id':i['_id'], 'task':i['task']}, 'task':'simulate', 'id':i['task']['id'], 'start':i['task']['start'], 'stop':i['task']['stop']}\n",
    "        if 'phi_0' in i['result']:\n",
    "            task['phi_0'] = i['result']['phi_0']\n",
    "        task['g_params'] = i['result']['g_params']\n",
    "        print('nosimyet', task)\n",
    "        c+=1\n",
    "        #tl.add_task(task)\n",
    "print(c)"
   ]
  },
  {
   "cell_type": "code",
   "execution_count": null,
   "metadata": {},
   "outputs": [],
   "source": []
  },
  {
   "cell_type": "code",
   "execution_count": null,
   "metadata": {},
   "outputs": [],
   "source": []
  },
  {
   "cell_type": "code",
   "execution_count": 8,
   "metadata": {},
   "outputs": [
    {
     "name": "stdout",
     "output_type": "stream",
     "text": [
      "mongo mongodb://192.168.0.94:27017/\n",
      "redis 192.168.0.94\n",
      "simulate using phi_dash 89.7635755943302\n",
      "2975\n",
      "5950\n",
      "8925\n",
      "11900\n",
      "14875\n",
      "{'sim_results': array([  2.49957072,   2.49960827,   2.49964919, ..., 317.85173948,\n",
      "       317.8517422 , 317.85175701])}\n"
     ]
    }
   ],
   "source": [
    "# EXECUTE SINGLE TASK DIRECTLY HERE FOR TESTING, E.G SIMULATION\n",
    "result = tl.execute_task(\n",
    "    {'origin': {'id': '123'}, 'task': 'simulate', 'id': '20150309_AAPL', 'start': 37800000.0, 'stop': 45000000.0, 'phi_0': 0.8976357559433028, 'g_params': [0.99, 7900.79560871683, 53.28371451939907]}\n",
    ")\n",
    "print(result)"
   ]
  },
  {
   "cell_type": "code",
   "execution_count": 9,
   "metadata": {},
   "outputs": [
    {
     "name": "stdout",
     "output_type": "stream",
     "text": [
      "redis 192.168.0.94\n",
      "start powerfit\n",
      "start Yule Walker for powerfit using (c,omega,beta) [ 2.14781361 33.53665155  1.97202902]\n"
     ]
    },
    {
     "name": "stderr",
     "output_type": "stream",
     "text": [
      "/home/jovyan/MasterThesis/MasterThesis/analysis/fit_lib.py:102: RuntimeWarning: divide by zero encountered in true_divide\n",
      "  f_power = lambda x,g,omega,beta: g*np.exp(omega)*beta/((1+np.exp(omega)*x)**(1+beta))\n"
     ]
    },
    {
     "name": "stdout",
     "output_type": "stream",
     "text": [
      "Fit ok\n",
      "Fit ok\n",
      "values for basinhopping, differential_evolution, difference 0.0006511421859404326 0.0006511424957664157 -3.098259831199948e-10\n"
     ]
    }
   ],
   "source": [
    "# OR MOMENT FIT\n",
    "res_moments = tl.execute_task( {\n",
    "    'task':'fit',\n",
    "    'method':'moments',\n",
    "    'powerfit':True,\n",
    "    'lsqfit':False,\n",
    "    'loadcachedcovariance':True,\n",
    "    'id':'20170912_AAPL',\n",
    "    'start':10.5*3600*1000,\n",
    "    'stop':12.5*3600*1000\n",
    "    }\n",
    "\n",
    ")"
   ]
  },
  {
   "cell_type": "code",
   "execution_count": 10,
   "metadata": {},
   "outputs": [],
   "source": [
    "# OR MLE\n",
    "res_mle = tl.add_task( {\n",
    "    'task':'fit',\n",
    "    'method':'mle',\n",
    "    'book_convention':True,\n",
    "    'fix_phi_dash':False,\n",
    "    'id':'20170912_AAPL',\n",
    "    'start':10.5*3600*1000,\n",
    "    'stop':12.5*3600*1000\n",
    "    }, execute_sync=False\n",
    "\n",
    ")"
   ]
  },
  {
   "cell_type": "code",
   "execution_count": null,
   "metadata": {},
   "outputs": [],
   "source": []
  },
  {
   "cell_type": "code",
   "execution_count": null,
   "metadata": {},
   "outputs": [],
   "source": []
  },
  {
   "cell_type": "code",
   "execution_count": null,
   "metadata": {},
   "outputs": [],
   "source": []
  },
  {
   "cell_type": "code",
   "execution_count": null,
   "metadata": {},
   "outputs": [],
   "source": []
  }
 ],
 "metadata": {
  "kernelspec": {
   "display_name": "Python 3",
   "language": "python",
   "name": "python3"
  },
  "language_info": {
   "codemirror_mode": {
    "name": "ipython",
    "version": 3
   },
   "file_extension": ".py",
   "mimetype": "text/x-python",
   "name": "python",
   "nbconvert_exporter": "python",
   "pygments_lexer": "ipython3",
   "version": "3.7.1"
  }
 },
 "nbformat": 4,
 "nbformat_minor": 2
}
