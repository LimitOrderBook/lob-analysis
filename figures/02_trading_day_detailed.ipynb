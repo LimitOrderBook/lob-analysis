{
 "cells": [
  {
   "cell_type": "code",
   "execution_count": 1,
   "metadata": {},
   "outputs": [],
   "source": [
    "import os\n",
    "os.chdir('../app')"
   ]
  },
  {
   "cell_type": "code",
   "execution_count": 2,
   "metadata": {},
   "outputs": [],
   "source": [
    "import numpy as np\n",
    "from pymongo import MongoClient, UpdateMany, UpdateOne, InsertOne\n",
    "import matplotlib\n",
    "import matplotlib.pyplot as plt\n",
    "import matplotlib.patches as patches\n",
    "%matplotlib inline\n",
    "import math"
   ]
  },
  {
   "cell_type": "code",
   "execution_count": 3,
   "metadata": {},
   "outputs": [
    {
     "name": "stderr",
     "output_type": "stream",
     "text": [
      "/opt/conda/lib/python3.7/site-packages/pandas/compat/_optional.py:138: UserWarning: Pandas requires version '2.7.0' or newer of 'numexpr' (version '2.6.9' currently installed).\n",
      "  warnings.warn(msg, UserWarning)\n"
     ]
    }
   ],
   "source": [
    "import copy\n",
    "import pandas as pd\n",
    "import matplotlib.dates as mdates"
   ]
  },
  {
   "cell_type": "code",
   "execution_count": 4,
   "metadata": {},
   "outputs": [],
   "source": [
    "from matplotlib import rc"
   ]
  },
  {
   "cell_type": "code",
   "execution_count": 5,
   "metadata": {},
   "outputs": [],
   "source": [
    "import preprocessing.preglobal as pg\n",
    "import frontend.stock_analytics as salib\n",
    "import lob.lob as loblib "
   ]
  },
  {
   "cell_type": "code",
   "execution_count": 6,
   "metadata": {},
   "outputs": [],
   "source": [
    "plt.rcParams[\"figure.figsize\"] = (15,5)"
   ]
  },
  {
   "cell_type": "code",
   "execution_count": 7,
   "metadata": {},
   "outputs": [],
   "source": [
    "def graph_pre(size=1):\n",
    "    rc('font',**{'family':'serif','serif':['Times']})\n",
    "    rc('text', usetex=True)\n",
    "    h = [0,3,5][size]\n",
    "    \n",
    "    plt.rcParams[\"figure.figsize\"] = (7.5,h)\n",
    "    \n",
    "def graph_post():\n",
    "    plt.tight_layout()"
   ]
  },
  {
   "cell_type": "code",
   "execution_count": null,
   "metadata": {},
   "outputs": [],
   "source": []
  },
  {
   "cell_type": "code",
   "execution_count": 8,
   "metadata": {},
   "outputs": [
    {
     "name": "stdout",
     "output_type": "stream",
     "text": [
      "mongo mongodb://192.168.0.94:27017/\n",
      "load 20190910_AAPL\n",
      "redis 192.168.0.94\n",
      "load 20190325_AAPL\n",
      "redis 192.168.0.94\n",
      "load 20181030_AAPL\n",
      "redis 192.168.0.94\n",
      "load 20180912_AAPL\n",
      "redis 192.168.0.94\n",
      "load 20180604_AAPL\n",
      "redis 192.168.0.94\n",
      "load 20180327_AAPL\n",
      "redis 192.168.0.94\n",
      "load 20170912_AAPL\n",
      "redis 192.168.0.94\n",
      "load 20170605_AAPL\n",
      "redis 192.168.0.94\n",
      "load 20161027_AAPL\n",
      "redis 192.168.0.94\n",
      "load 20160907_AAPL\n",
      "redis 192.168.0.94\n",
      "load 20160613_AAPL\n",
      "redis 192.168.0.94\n",
      "load 20160321_AAPL\n",
      "redis 192.168.0.94\n",
      "load 20150909_AAPL\n",
      "redis 192.168.0.94\n",
      "load 20150608_AAPL\n",
      "redis 192.168.0.94\n",
      "load 20150309_AAPL\n",
      "redis 192.168.0.94\n",
      "Elapsed time: 0.046663459041155875s\n"
     ]
    }
   ],
   "source": [
    "salib.tic()\n",
    "# Load all Graphs\n",
    "sa_array = []\n",
    "for i in pg.get_kn_entries({'selected':1}):\n",
    "    print('load',i['id'])\n",
    "    sa_array.append({'kn':i,'sa':salib.stock_analytics(i['id'], gui_mode=False)})\n",
    "sa = sa_array[0]['sa']\n",
    "salib.toc()"
   ]
  },
  {
   "cell_type": "code",
   "execution_count": 9,
   "metadata": {},
   "outputs": [],
   "source": [
    "folder = \"Thesis/generated_figures/\""
   ]
  },
  {
   "cell_type": "code",
   "execution_count": 10,
   "metadata": {},
   "outputs": [],
   "source": [
    "salib.time_as_string = False\n",
    "filte = copy.deepcopy(sa.filters['default'])"
   ]
  },
  {
   "cell_type": "code",
   "execution_count": 11,
   "metadata": {},
   "outputs": [],
   "source": [
    "def draw_graph_2d_3(g,f, draw=True, normalize=False, mapf=None):\n",
    "    res = []\n",
    "    xaxis = []\n",
    "    yaxis = []\n",
    "    fig,ax = plt.subplots()\n",
    "    \n",
    "    for sa in sa_array:\n",
    "        t = sa['sa'].calculate_graph(g,f, histogram=True)\n",
    "        xaxis.append(t[0])\n",
    "        res.append(t[1])\n",
    "        yaxis.append(sa['kn']['id'])\n",
    "    res = np.array(res)\n",
    "    \n",
    "    \n",
    "    if not draw:\n",
    "        return res, xaxis, yaxis\n",
    "    \n",
    "    if mapf:\n",
    "        for i in range(len(res)):\n",
    "            res[i] = mapf(res[i])\n",
    "            \n",
    "    if normalize:\n",
    "        for i in range(len(res)):\n",
    "            res[i] /= res[i].mean()\n",
    "\n",
    "\n",
    "    \n",
    "\n",
    "    myFmt = mdates.DateFormatter('%H:%M:%S')\n",
    "    g_stop = 0\n",
    "    g_start = 0\n",
    "    g_xaxis = xaxis[0]\n",
    "    g_yaxis = np.zeros(len(g_xaxis))\n",
    "    g_n = 0\n",
    "    for i in range(len(res)):\n",
    "\n",
    "        sa = sa_array[i]\n",
    "\n",
    "        if sa['kn']['time_mapping'][0]['stock_time_start'] < 12.5*3600*1000:\n",
    "            print('skip kn')\n",
    "            continue\n",
    "            \n",
    "        g_n+=1\n",
    "        assert (g_xaxis == xaxis[i])\n",
    "  \n",
    "        g_yaxis += np.array(res[i])\n",
    "        #ax.plot(xaxis[i],res[i])\n",
    "        ax.xaxis.set_major_formatter(myFmt)\n",
    "        g_stop+=sa['kn']['time_mapping'][-1]['stock_time_end']\n",
    "        g_start+=sa['kn']['time_mapping'][-1]['stock_time_start']\n",
    "       \n",
    "\n",
    "    dt = ((g_xaxis[1]-g_xaxis[0]).total_seconds())\n",
    "    \n",
    "    \n",
    "    ax.bar(g_xaxis,g_yaxis/(dt*g_n),width=0.001)\n",
    "\n",
    "    \n",
    "    ax.axvline(linewidth=1, x=salib.to_date_i(g_stop/g_n), color='r')\n",
    "    ax.axvline(linewidth=1, x=salib.to_date_i(g_start/g_n), color='r')\n",
    "    ax.axvline(linewidth=1, x=salib.to_date_i(10.5*3600*1000), color='r')\n",
    "    ax.axvline(linewidth=1, x=salib.to_date_i(15.5*3600*1000), color='r')\n",
    "    return fig,ax"
   ]
  },
  {
   "cell_type": "code",
   "execution_count": 13,
   "metadata": {},
   "outputs": [
    {
     "name": "stdout",
     "output_type": "stream",
     "text": [
      "skip kn\n",
      "skip kn\n"
     ]
    },
    {
     "data": {
      "image/png": "[encoded data removed]",
      "text/plain": [
       "<Figure size 540x216 with 1 Axes>"
      ]
     },
     "metadata": {
      "needs_background": "light"
     },
     "output_type": "display_data"
    }
   ],
   "source": [
    "graph_pre()\n",
    "\n",
    "\n",
    "filte['numbins']=75\n",
    "filte['range']['time'] = [9.5*3600*1000, 16.*3600*1000]\n",
    "fig,axs = draw_graph_2d_3(sa.graphlist['marketorder_num'], filte, normalize=False)  \n",
    "axs.set_ylabel('Market order rate [in 1/s]')\n",
    "\n",
    "\n",
    "axs.text(0.09,0.93, 'opening time', horizontalalignment='center',\n",
    "     verticalalignment='center', transform=axs.transAxes)\n",
    "axs.text(0.36,0.93, 'normal time', horizontalalignment='center',\n",
    "     verticalalignment='center', transform=axs.transAxes)\n",
    "axs.text(0.68,0.93, 'keynote time', horizontalalignment='center',\n",
    "     verticalalignment='center', transform=axs.transAxes)\n",
    "axs.text(0.95,0.93, 'closing', horizontalalignment='center',\n",
    "     verticalalignment='center', transform=axs.transAxes)\n",
    "axs.set_ylim([0, 12])\n",
    "axs.set_xlabel('Time (ET)')\n",
    "\n",
    "graph_post()\n",
    "fig.savefig(folder+\"res_lob20.pdf\")\n",
    "\n"
   ]
  },
  {
   "cell_type": "code",
   "execution_count": null,
   "metadata": {},
   "outputs": [],
   "source": []
  },
  {
   "cell_type": "code",
   "execution_count": 15,
   "metadata": {},
   "outputs": [],
   "source": [
    "def draw_graph_2d_2(ax,g,f, draw=True, normalize=False, mapf=None,axright=False, normdt=False):\n",
    "    res = []\n",
    "    xaxis = []\n",
    "    yaxis = []\n",
    "    \n",
    "    \n",
    "    for sa in sa_array:\n",
    "        t = sa['sa'].calculate_graph(g,f, histogram=True)\n",
    "\n",
    "        xaxis.append(t[0])\n",
    "        res.append(t[1])\n",
    "        yaxis.append(sa['kn']['id'])\n",
    "    res = np.array(res)\n",
    "    if not draw:\n",
    "        return res, xaxis, yaxis\n",
    "    \n",
    "    if mapf:\n",
    "        for i in range(len(res)):\n",
    "            res[i] = mapf(res[i])\n",
    "            \n",
    "    if normalize:\n",
    "        for i in range(len(res)):\n",
    "            res[i] /= res[i].mean()\n",
    "\n",
    "\n",
    "    \n",
    "    \n",
    "\n",
    "    g_xaxis = xaxis[0]\n",
    "    g_yaxis = []\n",
    "    g_n = 0\n",
    "    for i in range(len(res)):\n",
    "       \n",
    "        sa = sa_array[i]\n",
    "\n",
    "        if sa['kn']['time_mapping'][0]['stock_time_start'] < 12.5*3600*1000:\n",
    "            print('skip kn')\n",
    "            continue\n",
    "            \n",
    "        g_n+=1\n",
    "        assert (g_xaxis == xaxis[i])\n",
    "  \n",
    "        g_yaxis.append( np.array(res[i]) )\n",
    "\n",
    "        myFmt = mdates.DateFormatter('%H:%M')\n",
    "        ax.xaxis.set_major_formatter(myFmt)\n",
    "       \n",
    "\n",
    "    if normdt:    \n",
    "        dt = ((g_xaxis[1]-g_xaxis[0]).total_seconds())\n",
    "        g_yaxis = np.array(g_yaxis)\n",
    "        g_yaxis /= dt\n",
    "    \n",
    "        \n",
    "    xmean = np.array(g_yaxis).mean(axis=0)\n",
    "    xstd = np.array(g_yaxis).std(axis=0)\n",
    "    ax.plot(g_xaxis,xmean,'.')\n",
    "    ax.fill_between(g_xaxis, xmean-xstd, xmean+xstd, color='grey')\n",
    "\n",
    "    if axright:\n",
    "        ax.yaxis.tick_right()\n",
    "        ax.yaxis.labelpad = 15\n",
    "        ax.yaxis.set_label_position(\"right\")\n",
    "    \n",
    "    ax.set_ylim([0,None])\n",
    "\n",
    "    \n"
   ]
  },
  {
   "cell_type": "code",
   "execution_count": 16,
   "metadata": {},
   "outputs": [
    {
     "name": "stdout",
     "output_type": "stream",
     "text": [
      "skip kn\n",
      "skip kn\n",
      "skip kn\n",
      "skip kn\n",
      "skip kn\n",
      "skip kn\n",
      "skip kn\n",
      "skip kn\n"
     ]
    },
    {
     "data": {
      "image/png": "[encoded data removed]",
      "text/plain": [
       "<Figure size 540x360 with 4 Axes>"
      ]
     },
     "metadata": {
      "needs_background": "light"
     },
     "output_type": "display_data"
    }
   ],
   "source": [
    "graph_pre(size=2)\n",
    "filte['numbins']=100\n",
    "filte['range']['time'] = [9.5*3600*1000, 16.*3600*1000] \n",
    "fig,axs = plt.subplots(2,2)\n",
    "axs[0][0].set_title('Market order volume')\n",
    "axs[0][0].set_ylabel('Volume rate [in 1/s]')\n",
    "draw_graph_2d_2(axs[0][0],sa.graphlist['marketorder_vis'], filte, normalize=False, normdt=True)  \n",
    "\n",
    "axs[0][1].set_title('New limit order volume')\n",
    "axs[0][1].set_ylabel('Volume rate [in 1/s]', rotation=270)\n",
    "draw_graph_2d_2(axs[0][1],sa.graphlist['limitorder'], filte, normalize=False,axright=True, normdt=True)  \n",
    "\n",
    "axs[1][0].set_title('Volatility')\n",
    "axs[1][0].set_ylabel('Volatility [in $\\sqrt{1/a}$]')\n",
    "draw_graph_2d_2(axs[1][0],sa.graphlist['volatility'], filte, normalize=False)  \n",
    "\n",
    "axs[1][1].set_title('Spread')\n",
    "axs[1][1].set_ylabel('Spread [in USD]', rotation=270)\n",
    "draw_graph_2d_2(axs[1][1],sa.graphlist['spread'], filte, normalize=False,axright=True)   \n",
    "graph_post()\n",
    "fig.savefig(folder+\"res_lob21.pdf\")"
   ]
  },
  {
   "cell_type": "code",
   "execution_count": null,
   "metadata": {},
   "outputs": [],
   "source": []
  },
  {
   "cell_type": "code",
   "execution_count": null,
   "metadata": {},
   "outputs": [],
   "source": []
  },
  {
   "cell_type": "code",
   "execution_count": null,
   "metadata": {},
   "outputs": [],
   "source": []
  },
  {
   "cell_type": "code",
   "execution_count": null,
   "metadata": {},
   "outputs": [],
   "source": [
    "def dobins(ts_array, N = 1000, useinteger=False, stepsize=None):\n",
    "    ts_array.sort()\n",
    "   \n",
    "    x_bins = None\n",
    "    if useinteger:\n",
    "        minp = math.floor(ts_array[0])\n",
    "        maxp = math.ceil(ts_array[-1])\n",
    "        steps = stepsize if stepsize else np.ceil((maxp-minp)/N)\n",
    "        \n",
    "        x_bins = np.arange(minp, maxp+0.1, steps)\n",
    "        N = len(x_bins)-1\n",
    "        \n",
    "    elif stepsize is None:\n",
    "        x_bins = np.linspace(ts_array[0], ts_array[-1], N+1)\n",
    "    else:\n",
    "        x_bins = np.arange(ts_array[0], ts_array[-1], stepsize)\n",
    "        N = len(x_bins)-1\n",
    "     \n",
    "    dt = x_bins[1]-x_bins[0]\n",
    "    x_bins = x_bins[:-1]\n",
    "    y_bins = np.zeros(len(x_bins))\n",
    "    \n",
    "    unique, counts = np.unique(np.floor((ts_array-x_bins[0])/dt), return_counts=True)\n",
    "    unique = unique[:-1]\n",
    "    y_bins[unique.astype(int)] = counts[:-1]\n",
    "    \n",
    "\n",
    "    E  = y_bins.mean()\n",
    "    V = y_bins.var()\n",
    "    return x_bins, y_bins, V/E"
   ]
  },
  {
   "cell_type": "code",
   "execution_count": null,
   "metadata": {},
   "outputs": [
    {
     "name": "stdout",
     "output_type": "stream",
     "text": [
      "skip kn\n",
      "skip kn\n"
     ]
    }
   ],
   "source": [
    "plt.rcParams[\"figure.figsize\"] = (7.5,3)\n",
    "\n",
    "ts_array_before = []\n",
    "ts_array_keynote = []\n",
    "\n",
    "for sa_i in sa_array:\n",
    "    knend = sa_i['kn']['time_mapping'][0]['stock_time_end']\n",
    "    knstart = sa_i['kn']['time_mapping'][0]['stock_time_start']\n",
    "    if knstart < 12.5*3600*1000:\n",
    "        print('skip kn')\n",
    "        continue\n",
    "        \n",
    "    t = sa_i['sa'].ticks.aggregate([{\"$match\":{\"type\":{\"$in\":['execute', 'fill'\n",
    "                                                             ]},\"timestamp\":{\"$gt\":10.5*3600*1000, \"$lt\":knend}}},\n",
    "                                    {\"$project\":{\"timestamp\":1,\"ask\":1,\"bid\":1}}])\n",
    "    ts_array_keynote.extend( [ a['ask']-a['bid'] for a in t if a['timestamp'] > knstart])\n",
    "    ts_array_before.extend( [ a['ask']-a['bid'] for a in t if a['timestamp'] < knstart])\n",
    "\n",
    "ts_array_before = np.array(ts_array_before)/100 #Spread at execution\n",
    "spread_a,spread_b,_ = dobins(ts_array_before,useinteger=True)\n",
    "\n",
    "ts_array_keynote = np.array(ts_array_keynote)/100 #Spread at execution\n",
    "spread_a_kn,spread_b_kn,_ = dobins(ts_array_keynote,useinteger=True)\n"
   ]
  },
  {
   "cell_type": "code",
   "execution_count": null,
   "metadata": {},
   "outputs": [],
   "source": []
  },
  {
   "cell_type": "code",
   "execution_count": null,
   "metadata": {},
   "outputs": [],
   "source": []
  },
  {
   "cell_type": "code",
   "execution_count": null,
   "metadata": {},
   "outputs": [
    {
     "name": "stdout",
     "output_type": "stream",
     "text": [
      "skip kn\n",
      "skip kn\n"
     ]
    }
   ],
   "source": [
    "ts_array_before = []\n",
    "ts_array_keynote = []\n",
    "for sa_i in sa_array:\n",
    "    knend = sa_i['kn']['time_mapping'][0]['stock_time_end']\n",
    "    knstart = sa_i['kn']['time_mapping'][0]['stock_time_start']\n",
    "    if knstart < 12.5*3600*1000:\n",
    "        print('skip kn')\n",
    "        continue\n",
    "    t = sa_i['sa'].ticks.aggregate([{\"$match\":{\"type\":{\"$in\":['execute', 'fill'\n",
    "                                                             ]},\"timestamp\":{\"$gt\":10.5*3600*1000, \"$lt\":knend}}},\n",
    "                                    {\"$project\":{\"timestamp\":1,\"qty\":1}}])\n",
    "    ts_array_keynote.extend( [ -a['qty'] for a in t if a['timestamp'] > knstart])\n",
    "    ts_array_before.extend( [ -a['qty'] for a in t if a['timestamp'] < knstart])\n",
    "\n",
    "ts_array_before = np.array(ts_array_before) #Spread at execution\n",
    "volume_mo_a,volume_mo_b,_ = dobins(ts_array_before,useinteger=True,stepsize=100.)\n",
    "\n",
    "ts_array_keynote = np.array(ts_array_keynote) #Spread at execution\n",
    "volume_mo_a_kn,volume_mo_b_kn,_ = dobins(ts_array_keynote,useinteger=True,stepsize=100.)\n"
   ]
  },
  {
   "cell_type": "code",
   "execution_count": null,
   "metadata": {},
   "outputs": [],
   "source": []
  },
  {
   "cell_type": "code",
   "execution_count": null,
   "metadata": {},
   "outputs": [
    {
     "name": "stdout",
     "output_type": "stream",
     "text": [
      "skip kn\n",
      "skip kn\n"
     ]
    }
   ],
   "source": [
    "ts_array_before = []\n",
    "ts_array_keynote = []\n",
    "for sa_i in sa_array:\n",
    "    knend = sa_i['kn']['time_mapping'][0]['stock_time_end']\n",
    "    knstart = sa_i['kn']['time_mapping'][0]['stock_time_start']\n",
    "    if knstart < 12.5*3600*1000:\n",
    "        print('skip kn')\n",
    "        continue\n",
    "    t = sa_i['sa'].ticks.aggregate([{\"$match\":{\"type\":{\"$in\":['sell', 'buy'\n",
    "                                                             ]},\"timestamp\":{\"$gt\":10.5*3600*1000, \"$lt\":knend}}},\n",
    "                                    {\"$project\":{\"timestamp\":1,\"qty\":1}}])\n",
    "    ts_array_before.extend( [ a['qty'] for a in t if a['timestamp'] < knstart])\n",
    "    ts_array_keynote.extend( [ a['qty'] for a in t if a['timestamp'] > knstart])\n",
    "\n",
    "ts_array_before = np.array(ts_array_before) #Spread at execution\n",
    "volume_lo_a,volume_lo_b,_ = dobins(ts_array_before,useinteger=True,stepsize=100.)\n",
    "\n",
    "\n",
    "ts_array_keynote = np.array(ts_array_keynote) #Spread at execution\n",
    "volume_lo_a_kn,volume_lo_b_kn,_ = dobins(ts_array_keynote,useinteger=True,stepsize=100.)\n"
   ]
  },
  {
   "cell_type": "code",
   "execution_count": null,
   "metadata": {},
   "outputs": [],
   "source": []
  },
  {
   "cell_type": "code",
   "execution_count": null,
   "metadata": {},
   "outputs": [],
   "source": []
  },
  {
   "cell_type": "code",
   "execution_count": null,
   "metadata": {},
   "outputs": [
    {
     "name": "stdout",
     "output_type": "stream",
     "text": [
      "20190910_AAPL\n",
      "20190325_AAPL\n",
      "skip kn\n",
      "20180912_AAPL\n",
      "20180604_AAPL\n",
      "skip kn\n",
      "20170912_AAPL\n"
     ]
    }
   ],
   "source": [
    "d_array_before = []\n",
    "d_array_after = []\n",
    "\n",
    "for sa_i in sa_array:\n",
    "    knend = sa_i['kn']['time_mapping'][0]['stock_time_end']\n",
    "    knstart = sa_i['kn']['time_mapping'][0]['stock_time_start']\n",
    "    if knstart < 12.5*3600*1000:\n",
    "        print('skip kn')\n",
    "        continue\n",
    "    print(sa_i['kn']['id'])\n",
    "    t = sa_i['sa'].ticks.aggregate([{\"$match\":{\"ask\":{\"$gt\":0},\"price\":{\"$gt\":0},\"type\":{\"$nin\":['trade','cancel','execute']\n",
    "                                                             },\"timestamp\":{\"$gt\":10.5*3600*1000, \"$lt\":knend}}},\n",
    "                                    {\"$project\":{\"timestamp\":1,\"ask\":1,\"price\":1,'type':1,'bid':1}}])\n",
    "\n",
    "    currentask = 0\n",
    "    currentbid = 0\n",
    "    for o in t:\n",
    "        d= 100000\n",
    "        if o['type'] == 'buy':\n",
    "            d = currentbid-o['price']\n",
    "        elif o['type'] == 'sell':\n",
    "            d = o['price']-currentask\n",
    "            \n",
    "        if abs(d) < 10000:\n",
    "            if o['timestamp'] < knstart:\n",
    "                d_array_before.append(d)\n",
    "            else:\n",
    "                d_array_after.append(d)\n",
    "                \n",
    "        currentask = o['ask']\n",
    "        currentbid = o['bid']\n",
    "    \n",
    "    \n",
    "d_array_after = np.array(d_array_after)   \n",
    "d_array_before = np.array(d_array_before)"
   ]
  },
  {
   "cell_type": "code",
   "execution_count": null,
   "metadata": {},
   "outputs": [],
   "source": []
  },
  {
   "cell_type": "code",
   "execution_count": null,
   "metadata": {},
   "outputs": [],
   "source": [
    "samesidedist_a,samesidedist_b,_ = dobins((d_array_before/100).copy(), useinteger=True)\n",
    "samesidedist_a_kn,samesidedist_b_kn,_ = dobins((d_array_after/100).copy(), useinteger=True)\n"
   ]
  },
  {
   "cell_type": "code",
   "execution_count": null,
   "metadata": {},
   "outputs": [],
   "source": []
  },
  {
   "cell_type": "code",
   "execution_count": null,
   "metadata": {},
   "outputs": [],
   "source": []
  },
  {
   "cell_type": "code",
   "execution_count": null,
   "metadata": {},
   "outputs": [],
   "source": []
  },
  {
   "cell_type": "code",
   "execution_count": null,
   "metadata": {},
   "outputs": [],
   "source": [
    "def extendto(a,b):\n",
    "    return np.pad(a, (0, len(b)-len(a)), mode='constant', constant_values=0)"
   ]
  },
  {
   "cell_type": "code",
   "execution_count": null,
   "metadata": {},
   "outputs": [],
   "source": [
    "result_bid = np.zeros(10000)\n",
    "result_ask = np.zeros(10000)\n",
    "result_bid_kn = np.zeros(10000)\n",
    "result_ask_kn = np.zeros(10000)\n",
    "window = 50000\n",
    "\n",
    "bigN = 0\n",
    "bigNkn = 0\n",
    "\n",
    "for sa_i in sa_array:\n",
    "    knend = sa_i['kn']['time_mapping'][0]['stock_time_end']\n",
    "    knstart = sa_i['kn']['time_mapping'][0]['stock_time_start']\n",
    "    if knstart < 12.5*3600*1000:\n",
    "        print('skip kn')\n",
    "        continue\n",
    "    print(sa_i['kn']['id'])\n",
    "    \n",
    "    starttime = 10.5*3600*1000\n",
    "    endtime = knend\n",
    "    t = sa_i['sa'].ticks.aggregate([{\"$match\":{\"ask\":{\"$gt\":0},\"price\":{\"$gt\":0}\n",
    "                                                             ,\"timestamp\":{\"$gt\":starttime, \"$lt\":endtime}}},\n",
    "                                    {\"$group\":{\"_id\":1,\"minbid\":{\"$min\":\"$bid\"},\"maxask\":{\"$max\":\"$ask\"}}}])\n",
    "    \n",
    "    minprice = t[0]['minbid']-window\n",
    "    maxprice = t[0]['maxask']+window\n",
    "\n",
    "    salib.globalquery = []\n",
    "    filte[\"range\"][\"price\"] = [minprice, maxprice]\n",
    "    filte[\"range\"][\"time\"][0] = starttime\n",
    "    filte[\"range\"][\"time\"][1] = knstart\n",
    "    filte['numbins']=1000\n",
    "    t = sa_i['sa'].calculate_graph(sa_i['sa'].graphlist['full_lob_2d'],filte, histogram=True)\n",
    "    assert ((t[1][1:]-t[1][:-1] - 0.01)**2 < 1e-15).all()\n",
    "    t2 = t\n",
    "    \n",
    "    \n",
    "    for i in range(0, len(t2[0])):\n",
    "        bidindex = np.max(np.where(t2[0][i]<0))\n",
    "        askindex = np.min(np.where(t2[0][i]>0))\n",
    "        \n",
    "        result_bid += extendto(t2[0][i][bidindex+1:], result_bid)\n",
    "        result_ask += extendto(-t2[0][i][:askindex][::-1], result_ask)\n",
    "        bigN +=2\n",
    "    ################\n",
    "    \n",
    "    salib.globalquery = []\n",
    "    filte[\"range\"][\"price\"] = [minprice, maxprice]\n",
    "    filte[\"range\"][\"time\"][0] = knstart\n",
    "    filte[\"range\"][\"time\"][1] = knend\n",
    "    filte['numbins']=1000\n",
    "    t = sa_i['sa'].calculate_graph(sa_i['sa'].graphlist['full_lob_2d'],filte, histogram=True)\n",
    "    assert ((t[1][1:]-t[1][:-1] - 0.01)**2 < 1e-15).all()\n",
    "    t2 = t\n",
    "    \n",
    "    \n",
    "    for i in range(0, len(t2[0])):\n",
    "        bidindex = np.max(np.where(t2[0][i]<0))\n",
    "        askindex = np.min(np.where(t2[0][i]>0))\n",
    "\n",
    "        result_bid_kn += extendto(t2[0][i][bidindex+1:], result_bid_kn)\n",
    "        result_ask_kn += extendto(-t2[0][i][:askindex][::-1], result_ask_kn)\n",
    "        bigNkn+=2"
   ]
  },
  {
   "cell_type": "code",
   "execution_count": null,
   "metadata": {},
   "outputs": [],
   "source": []
  },
  {
   "cell_type": "code",
   "execution_count": null,
   "metadata": {},
   "outputs": [],
   "source": [
    "size = 75\n",
    "opposite_lob_a = result_bid[:size]+result_ask[:size]\n",
    "opposite_lob_b = result_bid_kn[:size]+result_ask_kn[:size]\n"
   ]
  },
  {
   "cell_type": "code",
   "execution_count": null,
   "metadata": {},
   "outputs": [],
   "source": []
  },
  {
   "cell_type": "code",
   "execution_count": null,
   "metadata": {},
   "outputs": [],
   "source": []
  },
  {
   "cell_type": "code",
   "execution_count": null,
   "metadata": {},
   "outputs": [],
   "source": [
    "\n",
    "plt.rcParams[\"figure.figsize\"] = (7.5,3)\n",
    "fig,ax = plt.subplots()\n",
    "ax.semilogy(spread_a/100,spread_b/spread_b.sum(),'.',label='normal time',ms=2)\n",
    "ax.semilogy(spread_a_kn/100,spread_b_kn/spread_b_kn.sum(),'.',label='keynote time',ms=2)\n",
    "ax.set_xlabel('Spread [in USD]')\n",
    "ax.set_ylabel('Occurrences (fraction)')\n",
    "plt.legend()\n",
    "plt.tight_layout()\n",
    "fig.savefig(folder+\"res_lob22.pdf\")\n",
    "plt.rcParams.update({\n",
    "    \"text.usetex\": True})\n"
   ]
  },
  {
   "cell_type": "code",
   "execution_count": null,
   "metadata": {},
   "outputs": [],
   "source": []
  },
  {
   "cell_type": "code",
   "execution_count": null,
   "metadata": {},
   "outputs": [],
   "source": [
    "def setright(ax):\n",
    "    ax.yaxis.tick_right()\n",
    "    ax.yaxis.labelpad = 15\n",
    "    ax.yaxis.set_label_position(\"right\")"
   ]
  },
  {
   "cell_type": "code",
   "execution_count": null,
   "metadata": {},
   "outputs": [],
   "source": [
    "plt.rcParams[\"figure.figsize\"] = (7.5,5)\n",
    "plt.rcParams.update({\n",
    "    \"text.usetex\": True})\n",
    "filte['numbins']=100\n",
    "filte['range']['time'] = [9.5*3600*1000, 16.*3600*1000] \n",
    "fig,axs = plt.subplots(2,2)\n",
    "\n",
    "\n",
    "\n",
    "ax = axs[0][0]\n",
    "ax.set_title(\"Market order volume\")\n",
    "ax.loglog(volume_mo_a,volume_mo_b/volume_mo_b.sum(),'.',label='normal time',ms=2)\n",
    "ax.loglog(volume_mo_a_kn,volume_mo_b_kn/volume_mo_b_kn.sum(),'.',label='keynote time',ms=2)\n",
    "ax.set_xlabel('Volume (qty)')\n",
    "ax.set_ylabel('Occurrences (fraction)')\n",
    "\n",
    "ax = axs[0][1]\n",
    "setright(ax)\n",
    "ax.set_title(\"New limit order volume\")\n",
    "ax.loglog(volume_lo_a,volume_lo_b/volume_lo_b.sum(),'.',label='normal time',ms=2)\n",
    "ax.loglog(volume_lo_a_kn,volume_lo_b_kn/volume_lo_b_kn.sum(),'.',label='keynote time',ms=2)\n",
    "ax.set_xlabel('Volume (qty)')\n",
    "ax.set_ylabel('Occurrences (fraction)',rotation=270)\n",
    "ax.legend()\n",
    "\n",
    "ax = axs[1][0]\n",
    "ax.set_title('Price of new order to best price')\n",
    "ax.semilogy(samesidedist_a/100,samesidedist_b/samesidedist_b.sum(),label='normal time',lw=1)\n",
    "ax.semilogy(samesidedist_a_kn/100,samesidedist_b_kn/samesidedist_b_kn.sum(),label='keynote time',lw=1)\n",
    "ax.set_xlabel('Price difference [in USD]')\n",
    "ax.set_ylabel('Occurrences (fraction)')\n",
    "\n",
    "ax = axs[1][1]\n",
    "setright(ax)\n",
    "ax.set_title('Volume profile from opposite best price')\n",
    "opposite_lob_a_x = (np.array(range(len(opposite_lob_a)))+1)/100\n",
    "opposite_lob_b_x = (np.array(range(len(opposite_lob_b)))+1)/100\n",
    "ax.plot(opposite_lob_a_x, opposite_lob_a/bigN,label='normal time',lw=1)\n",
    "ax.plot(opposite_lob_b_x, opposite_lob_b/bigNkn,label='keynote time',lw=1)\n",
    "ax.set_xlabel('Price difference [in USD]')\n",
    "ax.set_ylabel('Average available volume (qty)',rotation=270)\n",
    "plt.tight_layout()\n",
    "\n",
    "fig.savefig(folder+\"res_lob23.pdf\")\n",
    "plt.rcParams.update({\n",
    "    \"text.usetex\": True})"
   ]
  },
  {
   "cell_type": "code",
   "execution_count": null,
   "metadata": {},
   "outputs": [],
   "source": []
  },
  {
   "cell_type": "code",
   "execution_count": null,
   "metadata": {},
   "outputs": [],
   "source": []
  },
  {
   "cell_type": "code",
   "execution_count": null,
   "metadata": {},
   "outputs": [],
   "source": []
  },
  {
   "cell_type": "code",
   "execution_count": null,
   "metadata": {
    "scrolled": false
   },
   "outputs": [],
   "source": [
    "finalres = {}\n",
    "\n",
    "for graphmode in ['marketorder_vis','marketorder_num','messages_num']:\n",
    "    \n",
    "    print('\\n\\n  ====  GRAPHMODE',graphmode,'====')\n",
    "    filte['numbins']=75\n",
    "    modes = {\n",
    "        'start60min   ':[9.5,10.5],\n",
    "        '60tokn       ':[10.5,-1],\n",
    "        'kn           ':[-1,-2],\n",
    "        'knendto30stop':[-2,15.5],\n",
    "        '30stop       ':[15.5,16]\n",
    "    }\n",
    "    results = {}\n",
    "    results_rel = {}\n",
    "    for sa_i in sa_array:\n",
    "        if sa_i['kn']['time_mapping'][0]['stock_time_start'] < 12.5*3600*1000:\n",
    "            print('skip kn')\n",
    "            continue\n",
    "        for k, v_o in modes.items(): \n",
    "            v = v_o.copy()\n",
    "            for i in range(0,2):\n",
    "                if v[i] == -1:\n",
    "                    v[i] = sa_i['kn']['time_mapping'][-1]['stock_time_start']\n",
    "                elif v[i] == -2:\n",
    "                    v[i] = sa_i['kn']['time_mapping'][-1]['stock_time_end']\n",
    "                else:\n",
    "                    v[i] *= 3600*1000\n",
    "            filte['range']['time'] = v\n",
    "            #print(v)\n",
    "            t = sa_i['sa'].calculate_graph(sa.graphlist[graphmode], filte, histogram=True)\n",
    "            if k not in results:\n",
    "                results[k] = []\n",
    "                results_rel[k] = []\n",
    "            results[k].append(np.array(t[1]).sum())\n",
    "            results_rel[k].append(np.array(t[1]).sum()/(v[1]-v[0]))\n",
    "\n",
    "    print('\\nABSOLUTE PER TIMESLOT')\n",
    "    for k, _ in modes.items(): \n",
    "        print(k,np.array(results[k]).mean() ,' +/-', np.array(results[k]).std())\n",
    "    print('\\nRELATIVE PER TIMESLOT')\n",
    "    total = np.zeros(len(results['knendto30stop']))\n",
    "    for k, _ in modes.items(): \n",
    "        total += results[k]\n",
    "    for k, _ in modes.items(): \n",
    "        print(k,(np.array(results[k])/total).mean() ,' +/-', (np.array(results[k])/total).std())\n",
    "    print('\\nRELATIVE RATE')\n",
    "    total = np.zeros(len(results['knendto30stop']))\n",
    "    for k, _ in modes.items(): \n",
    "        total += results[k]\n",
    "    for k, _ in modes.items(): \n",
    "        x = np.array(results_rel[k])/(total/(7.5*3600*1000))\n",
    "        \n",
    "        if k not in finalres:\n",
    "            finalres[k] = {}\n",
    "\n",
    "        finalres[k][graphmode] = (x.mean() , x.std()) \n",
    "        print(k,x.mean() ,' +/-', x.std())"
   ]
  },
  {
   "cell_type": "code",
   "execution_count": null,
   "metadata": {},
   "outputs": [],
   "source": [
    "resstr = ''\n",
    "titelstr = ' & '\n",
    "first = True\n",
    "for k,v in finalres.items():\n",
    "    resstr += k +' & '\n",
    "    for kk,vv in v.items():\n",
    "        if first:\n",
    "            titelstr += kk + ' & '\n",
    "        resstr += '${:.2f}'.format(vv[0]) + ' \\pm ' + '{:.2f}'.format(vv[1]) + '$ & '\n",
    "    first = False\n",
    "    resstr += '\\\\\\\\ \\n'\n",
    "    \n",
    "print (titelstr+'\\\\\\\\ \\n'+resstr)"
   ]
  },
  {
   "cell_type": "code",
   "execution_count": null,
   "metadata": {},
   "outputs": [],
   "source": [
    "'{:.2f}'.format(123)"
   ]
  },
  {
   "cell_type": "code",
   "execution_count": null,
   "metadata": {},
   "outputs": [],
   "source": []
  },
  {
   "cell_type": "code",
   "execution_count": null,
   "metadata": {},
   "outputs": [],
   "source": []
  },
  {
   "cell_type": "code",
   "execution_count": null,
   "metadata": {},
   "outputs": [],
   "source": []
  }
 ],
 "metadata": {
  "kernelspec": {
   "display_name": "Python 3",
   "language": "python",
   "name": "python3"
  },
  "language_info": {
   "codemirror_mode": {
    "name": "ipython",
    "version": 3
   },
   "file_extension": ".py",
   "mimetype": "text/x-python",
   "name": "python",
   "nbconvert_exporter": "python",
   "pygments_lexer": "ipython3",
   "version": "3.7.1"
  }
 },
 "nbformat": 4,
 "nbformat_minor": 2
}
