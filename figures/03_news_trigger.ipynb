{
 "cells": [
  {
   "cell_type": "code",
   "execution_count": 1,
   "metadata": {},
   "outputs": [],
   "source": [
    "import os\n",
    "os.chdir('../app')"
   ]
  },
  {
   "cell_type": "code",
   "execution_count": 2,
   "metadata": {},
   "outputs": [
    {
     "name": "stderr",
     "output_type": "stream",
     "text": [
      "/opt/conda/lib/python3.7/site-packages/pandas/compat/_optional.py:138: UserWarning: Pandas requires version '2.7.0' or newer of 'numexpr' (version '2.6.9' currently installed).\n",
      "  warnings.warn(msg, UserWarning)\n"
     ]
    }
   ],
   "source": [
    "import frontend.stock_analytics as salib\n",
    "import matplotlib.pyplot as plt\n",
    "import matplotlib.dates as mdates\n",
    "from pandas.plotting import register_matplotlib_converters\n",
    "register_matplotlib_converters()\n",
    "from datetime import datetime,timedelta\n",
    "from pprint import pprint\n",
    "import matplotlib.patches as patches\n",
    "import time\n",
    "import numpy as np\n",
    "import datetime\n",
    "import copy\n",
    "import preprocessing.lob.s03_fill_cache as l03\n",
    "import re\n",
    "import preprocessing.preglobal as pg\n",
    "%matplotlib inline"
   ]
  },
  {
   "cell_type": "code",
   "execution_count": 3,
   "metadata": {},
   "outputs": [],
   "source": [
    "from matplotlib import rc"
   ]
  },
  {
   "cell_type": "code",
   "execution_count": 4,
   "metadata": {},
   "outputs": [],
   "source": [
    "import cv2\n",
    "from mpl_toolkits.axes_grid1.inset_locator import inset_axes\n",
    "from pymongo import MongoClient, UpdateMany, UpdateOne, InsertOne\n",
    "import pandas as pd"
   ]
  },
  {
   "cell_type": "code",
   "execution_count": 5,
   "metadata": {},
   "outputs": [],
   "source": [
    "url='mongodb://192.168.0.94:27017/'\n",
    "client = MongoClient(url)\n",
    "tbl = client['global']['keynotes']\n",
    "tbl2 = client['global']['timekeys']"
   ]
  },
  {
   "cell_type": "code",
   "execution_count": 6,
   "metadata": {},
   "outputs": [],
   "source": [
    "folder = \"Thesis/generated_figures/\""
   ]
  },
  {
   "cell_type": "code",
   "execution_count": 7,
   "metadata": {},
   "outputs": [],
   "source": [
    "def graph_pre(size=1):\n",
    "    rc('font',**{'family':'serif','serif':['Times']})\n",
    "    rc('text', usetex=True)\n",
    "    h = [0,3,5][size]\n",
    "    \n",
    "    plt.rcParams[\"figure.figsize\"] = (7.5,h)\n",
    "    \n",
    "def graph_post():\n",
    "    plt.tight_layout()"
   ]
  },
  {
   "cell_type": "code",
   "execution_count": null,
   "metadata": {},
   "outputs": [],
   "source": []
  },
  {
   "cell_type": "code",
   "execution_count": null,
   "metadata": {},
   "outputs": [],
   "source": []
  },
  {
   "cell_type": "code",
   "execution_count": 8,
   "metadata": {},
   "outputs": [
    {
     "name": "stdout",
     "output_type": "stream",
     "text": [
      "mongo mongodb://192.168.0.94:27017/\n",
      "load 20190910_AAPL\n",
      "redis 192.168.0.94\n",
      "load 20190325_AAPL\n",
      "redis 192.168.0.94\n",
      "load 20181030_AAPL\n",
      "redis 192.168.0.94\n",
      "load 20180912_AAPL\n",
      "redis 192.168.0.94\n",
      "load 20180604_AAPL\n",
      "redis 192.168.0.94\n",
      "load 20180327_AAPL\n",
      "redis 192.168.0.94\n",
      "load 20170912_AAPL\n",
      "redis 192.168.0.94\n",
      "load 20170605_AAPL\n",
      "redis 192.168.0.94\n",
      "load 20161027_AAPL\n",
      "redis 192.168.0.94\n",
      "load 20160907_AAPL\n",
      "redis 192.168.0.94\n",
      "load 20160613_AAPL\n",
      "redis 192.168.0.94\n",
      "load 20160321_AAPL\n",
      "redis 192.168.0.94\n",
      "load 20150909_AAPL\n",
      "redis 192.168.0.94\n",
      "load 20150608_AAPL\n",
      "redis 192.168.0.94\n",
      "load 20150309_AAPL\n",
      "redis 192.168.0.94\n"
     ]
    }
   ],
   "source": [
    "# Load all Graphs\n",
    "sa_array = []\n",
    "for i in pg.get_kn_entries({'selected':1}):\n",
    "    print('load',i['id'])\n",
    "    sa_array.append({'kn':i,'sa':salib.stock_analytics(i['id'], gui_mode=False)})\n"
   ]
  },
  {
   "cell_type": "code",
   "execution_count": 9,
   "metadata": {},
   "outputs": [],
   "source": [
    "salib.time_as_string = False\n",
    "filte = copy.deepcopy(sa_array[0]['sa'].filters['default'])\n",
    "g = sa_array[0]['sa'].graphlist['marketorder_num']"
   ]
  },
  {
   "cell_type": "code",
   "execution_count": 10,
   "metadata": {},
   "outputs": [],
   "source": [
    "filte['numbins']=100\n",
    "filte['range']['time'] = [9.6*3600*1000, 15.9*3600*1000]\n",
    "f = filte"
   ]
  },
  {
   "cell_type": "code",
   "execution_count": 11,
   "metadata": {},
   "outputs": [],
   "source": [
    "\n",
    "def timetoimshowaxis(t, xaxis):\n",
    "    scale = xaxis[1]-xaxis[0] # equals 1\n",
    "    offset = xaxis[0]\n",
    "    return -0.5 + (t-offset)/scale\n"
   ]
  },
  {
   "cell_type": "code",
   "execution_count": 12,
   "metadata": {},
   "outputs": [],
   "source": [
    "def xticks(xaxis, no_labels=5, mapf=None, isy=False):\n",
    "    x = np.array(xaxis)\n",
    "    nx = x.shape[0]\n",
    "\n",
    "    step_x = int(nx / (no_labels - 1)) # step between consecutive labels\n",
    "    x_positions = np.arange(0,nx,step_x) # pixel count at label position\n",
    "    x_labels = x[::step_x] # labels you want to see\n",
    "    if mapf:\n",
    "        x_labels = mapf(x_labels)\n",
    "    f = plt.yticks if isy else plt.xticks\n",
    "    f(x_positions, x_labels)\n",
    "def yticks(xaxis, no_labels=5,  mapf=None):\n",
    "    xticks(xaxis=xaxis,no_labels=no_labels, mapf=mapf,isy=True)"
   ]
  },
  {
   "cell_type": "code",
   "execution_count": 13,
   "metadata": {},
   "outputs": [],
   "source": [
    "filte['numbins']=100\n",
    "filte['range']['time'] = [9.6*3600*1000, 15.9*3600*1000]\n",
    "f = filte"
   ]
  },
  {
   "cell_type": "code",
   "execution_count": 14,
   "metadata": {},
   "outputs": [],
   "source": [
    "def tslice(t,a,b):\n",
    "    f = np.array([i>=salib.to_date_i(a) and i<salib.to_date_i(b) for i in t[0]])\n",
    "    return (np.array(t[0])[f], np.array(t[1])[f])"
   ]
  },
  {
   "cell_type": "code",
   "execution_count": null,
   "metadata": {},
   "outputs": [],
   "source": []
  },
  {
   "cell_type": "code",
   "execution_count": null,
   "metadata": {},
   "outputs": [],
   "source": []
  },
  {
   "cell_type": "code",
   "execution_count": 15,
   "metadata": {},
   "outputs": [],
   "source": [
    "video_hd_folder = '../../data/video_hd'\n",
    "ocr_folder = '../../data/ocr'\n",
    "timealignment_folder = '../../../../data/timealignment'"
   ]
  },
  {
   "cell_type": "code",
   "execution_count": 16,
   "metadata": {},
   "outputs": [],
   "source": [
    "def get_subtitles(i, start, stop): \n",
    "\n",
    "\n",
    "    cs = client[i]['subtitle'] .aggregate(\n",
    "               [\n",
    "\n",
    "                   {\"$match\":{\"startTime\":{\"$lte\":stop, \"$gte\":start},\n",
    "                             }},\n",
    "                   {\"$sort\":{\"startTime\":1, \"word\":1}}\n",
    "\n",
    "               ]\n",
    "            )\n",
    "    res = pd.DataFrame(list(cs))\n",
    "    # Delete duplicates\n",
    "    prevword = ''\n",
    "    for index, row in res.iterrows():\n",
    "        if row['word'] == prevword:\n",
    "            res.drop(index, inplace=True)\n",
    "        prevword = row['word']\n",
    "    sentences = []\n",
    "    lsentence = -1\n",
    "    csentence = ''\n",
    "    if len(res.index) == 0:\n",
    "        return []\n",
    "    \n",
    "    stime = res.head(1)['startTime'][0]\n",
    "    for index, row in res.iterrows():\n",
    "        if row['sentence'] != lsentence and lsentence!=-1:\n",
    "            sentences.append({'a':stime, 'b':etime, 's':csentence})\n",
    "            csentence = ''\n",
    "            stime = row['startTime']\n",
    "        etime = row['endTime']\n",
    "        lsentence = row['sentence']\n",
    "        csentence += row['word']+' '\n",
    "    sentences.append({'a':stime, 'b':etime, 's':csentence})\n",
    "    return sentences"
   ]
  },
  {
   "cell_type": "code",
   "execution_count": null,
   "metadata": {},
   "outputs": [],
   "source": []
  },
  {
   "cell_type": "code",
   "execution_count": 18,
   "metadata": {},
   "outputs": [],
   "source": [
    "def get_mentions_subtitles(keywords):\n",
    "    # Get all sentences\n",
    "    cs = client[sa['kn']['id']]['subtitle'] .aggregate([{\"$sort\":{\"startTime\":1, \"word\":1}} ]\n",
    "            )\n",
    "    res = pd.DataFrame(list(cs))\n",
    "    \n",
    "\n",
    "    # Delete duplicates\n",
    "    prevword = ''\n",
    "    for index, row in res.iterrows():\n",
    "        if row['word'] == prevword:\n",
    "            res.drop(index, inplace=True)\n",
    "        prevword = row['word']\n",
    "\n",
    "    \n",
    "    \n",
    "    \n",
    "    mentions = {}\n",
    "    ftime = 0\n",
    "    for kw in keywords:\n",
    "        ci = 0\n",
    "        kws = kw.split(\" \")\n",
    "        sf = kws[ci]\n",
    "        for index, row in res.iterrows():\n",
    "            assert ' ' not in row['word']\n",
    "            if re.sub(r\"[^a-zA-Z0-9]+\", '', row['word']).lower() == re.sub(r\"[^a-zA-Z0-9]+\", '', sf).lower():\n",
    "                ci+=1\n",
    "                if ci == len(kws):\n",
    "                    print('found', kw)\n",
    "                    mentions[kw] = {'first':ftime}\n",
    "                    break\n",
    "                sf = kws[ci]\n",
    "            else:\n",
    "                ci = 0\n",
    "                sf = kws[ci]\n",
    "                ftime = row['startTime']\n",
    "        \n",
    "        \n",
    "\n",
    "    return mentions\n"
   ]
  },
  {
   "cell_type": "code",
   "execution_count": 19,
   "metadata": {},
   "outputs": [],
   "source": [
    "def get_mentions_ocr(keywords):\n",
    "\n",
    "    # Get all sentences\n",
    "    mentions_ocr = {}\n",
    "\n",
    "    for kw in keywords:\n",
    "        cs = list(client[sa['kn']['id']]['ocr'] .aggregate([{'$match':{ '$text': { '$search': '\"'+kw+'\"'} }}\n",
    "                                                      , {'$sort':{'time':1}}]))\n",
    "        if len(cs) > 0:\n",
    "            mentions_ocr[kw] = {'first':cs[0]['time'], 'all':cs}\n",
    "        else:\n",
    "            print(kw,'not found')\n",
    "\n",
    "    return mentions_ocr"
   ]
  },
  {
   "cell_type": "code",
   "execution_count": null,
   "metadata": {},
   "outputs": [],
   "source": []
  },
  {
   "cell_type": "code",
   "execution_count": null,
   "metadata": {},
   "outputs": [],
   "source": []
  },
  {
   "cell_type": "code",
   "execution_count": 20,
   "metadata": {},
   "outputs": [],
   "source": [
    "def load_graph(sa):\n",
    "    filte['numbins']=1000\n",
    "    filte['range']['time'] = [9.6*3600*1000, 15.9*3600*1000]\n",
    "\n",
    "    \n",
    "    print('loading ',sa['kn']['id'])\n",
    "    t = sa['sa'].calculate_graph(g,f, histogram=True)\n",
    "\n",
    "    sstart = sa['kn']['time_mapping'][0]['stock_time_start']\n",
    "    sstop = sa['kn']['time_mapping'][-1]['stock_time_end']\n",
    "    t2 = tslice(t, sstart-0.5*3600*1000, sstop+.5*3600*1000)\n",
    "\n",
    "    if not (t2[0][1:]-t2[0][:-1] == t2[0][1]-t2[0][0]).all():\n",
    "        print( 'axis not same length')\n",
    "        dt = t2[0][1]-t2[0][0]\n",
    "        while not (t2[0][1:]-t2[0][:-1] == dt).all():\n",
    "            for i in range(1,len(t2[0])):\n",
    "                if t2[0][i]-t2[0][i-1] != dt:\n",
    "                    t2 = (np.insert(t2[0], i, t2[0][i-1]+dt), np.insert(t2[1], i, 0))\n",
    "                    print('change')\n",
    "                    break\n",
    "\n",
    "\n",
    "\n",
    "    assert (t2[0][1:]-t2[0][:-1] == t2[0][1]-t2[0][0]).all() # all slots equally spaced\n",
    "    tbinsize = t2[0][1]-t2[0][0]\n",
    "    \n",
    "    return t2, tbinsize, sstart, sstop"
   ]
  },
  {
   "cell_type": "code",
   "execution_count": null,
   "metadata": {},
   "outputs": [],
   "source": []
  },
  {
   "cell_type": "code",
   "execution_count": 21,
   "metadata": {},
   "outputs": [],
   "source": [
    "metadata = {\n",
    "    '20170912_AAPL':\n",
    "    {\n",
    "        'keywords': ['next up iphone','iPhone 10', 'iPhone X', 'iPhone 8', 'Apple Watch', 'cellular','electronic Sim', '329','399', 'iPhone', 'Apple TV', '699','999','TV 4K','TV','Apple Watch Series 3', 'Apple TV 4K','Air Power', 'AirPower'],\n",
    "        'trigger_param': (20, 200, 5)\n",
    "    },\n",
    "    '20150309_AAPL':\n",
    "    {\n",
    "        'keywords': ['April 24th','549', '1049' , 'USBC','Apple pay','Apple Watch', 'MacBook', 'ResearchKit', 'HBO NOW', '69', '99','$99','$69', '349','WeChat', 'calls on your watch'],\n",
    "        'trigger_param': (20, 400, 3)\n",
    "    },\n",
    "    '20150909_AAPL':{\n",
    "        'keywords':['iPhone 6s','iPhone 6s Plus', 'iPhone 6s +',\n",
    "            '$149','499','hundred ninety-nine','smart keyboard','Photoshop',\n",
    "            'Apple TV', 'iPad', 'iPad Pro','baseball', 'tvOS', 'watchOS 2', 'iOs 9','WeChat', 'seven ninety-nine', 'iPad Mini','399','$7.99','$99','99','69','$69''799'],\n",
    "        'trigger_param': (15, 300 ,2)\n",
    "    },\n",
    "    '20190910_AAPL':\n",
    "    {\n",
    "        'keywords': ['$6.99','699','$4.99','iPad mini','iPad Pro','Apple TV+','Apple TV', 'Apple TV plus', 'Apple Tv +', 'Apple Arcade', 'seventh-generation iPad', 'iPad', 'Apple Watch Series 5','Apple watch', 'iPhone','iPhone 11', 'iPhone 11 Pro', 'iPhone 11 Pro Max'],\n",
    "        'trigger_param': (10, 200 ,4)\n",
    "    },\n",
    "    '20150608_AAPL':\n",
    "    {\n",
    "        'keywords': ['Unreal Engine','autodesk','Apple Music', 'OS X', 'El Capitan', 'watchOS 2','watchos', 'iOS 9', 'News app', 'Apple Pay'],\n",
    "        'trigger_param': (18, 400 ,2)\n",
    "    },\n",
    "    '20180912_AAPL':\n",
    "    {\n",
    "        'keywords': ['Friday, September 14th','749','999','1099','heart rate','ECG','iPhone 10 s', 'iPhone 10s', 'iPhone 10 r', 'iPhone 10r', 'iPhone 10s max', 'iPhone 10 s max','iPhone Xs', 'iPhone Xs Max', 'iPhone XR', 'Apple Watch Series 4','Apple Watch', 'Home Pod', 'HomePod'],\n",
    "        'trigger_param': (15, 200 ,3)\n",
    "    },\n",
    "    '20160321_AAPL':\n",
    "    {\n",
    "        'keywords': ['$4.99','499','March the 31st','$2.99','299','9.7-inch','Apple TV' ,'iPad Pro','iPad','iPhone', 'iPhone SE','iphone s e', 'Apple Watch', 'tvOS'],\n",
    "        'trigger_param': (15, 200 ,3)\n",
    "    },\n",
    "    '20160613_AAPL':\n",
    "    {\n",
    "        'keywords': ['million paid subscribers','iOS 10', 'macOS Sierra', 'watchOS 3','watchos','macos','ios','sierra','Swift Playgrounds','swift playground'],\n",
    "        'trigger_param': (15, 150 ,2)\n",
    "    },\n",
    "    '20190325_AAPL':\n",
    "    {\n",
    "        'keywords': ['two percent','Apple News+','Apple News','Apple News +','Apple News plus','Apple pay', 'Apple Card', 'Apple Arcade', 'Apple TV', 'Apple TV+', 'Apple TV +', 'Apple TV plus'],\n",
    "        'trigger_param': (15, 150 ,2)\n",
    "    },\n",
    "}\n"
   ]
  },
  {
   "cell_type": "code",
   "execution_count": 22,
   "metadata": {},
   "outputs": [
    {
     "name": "stdout",
     "output_type": "stream",
     "text": [
      "loading  20170912_AAPL\n",
      "['iPhone X', 'iPhone 8', 'Apple Watch Series 3', 'Apple TV 4K']\n"
     ]
    }
   ],
   "source": [
    "mi = 0\n",
    "ck = list(metadata.keys())[mi]\n",
    "cv = metadata[ck]\n",
    "\n",
    "keywords = cv['keywords']\n",
    "sa = [sa for sa in sa_array if sa['kn']['id'] == ck][0]\n",
    "t2, tbinsize, sstart, sstop = load_graph(sa)\n",
    "\n",
    "orig_keywords = [a.lstrip() for a in sa['kn']['subtitle'].split(',')]\n",
    "print(orig_keywords)"
   ]
  },
  {
   "cell_type": "code",
   "execution_count": 23,
   "metadata": {},
   "outputs": [
    {
     "name": "stdout",
     "output_type": "stream",
     "text": [
      "sentences\n",
      "=========\n",
      "found next up iphone\n",
      "found iPhone 10\n",
      "found iPhone 8\n",
      "found Apple Watch\n",
      "found cellular\n",
      "found electronic Sim\n",
      "found 329\n",
      "found 399\n",
      "found iPhone\n",
      "found Apple TV\n",
      "found 999\n",
      "found TV 4K\n",
      "found TV\n",
      "found Apple Watch Series 3\n",
      "found Apple TV 4K\n",
      "found Air Power\n",
      "ocr\n",
      "=========\n",
      "next up iphone not found\n",
      "iPhone 10 not found\n",
      "electronic Sim not found\n",
      "Apple TV not found\n",
      "Apple TV 4K not found\n",
      "Air Power not found\n"
     ]
    }
   ],
   "source": [
    "print(\"sentences\\n=========\")\n",
    "mentions = get_mentions_subtitles(keywords)\n",
    "print(\"ocr\\n=========\")\n",
    "mentions_ocr = get_mentions_ocr(keywords)"
   ]
  },
  {
   "cell_type": "code",
   "execution_count": 24,
   "metadata": {},
   "outputs": [
    {
     "data": {
      "text/plain": [
       "{'next up iphone': {'first': 3174.6},\n",
       " 'iPhone 10': {'first': 4669.9},\n",
       " 'iPhone 8': {'first': 3411.2},\n",
       " 'Apple Watch': {'first': 1054.7},\n",
       " 'cellular': {'first': 1659.8},\n",
       " 'electronic Sim': {'first': 1891.1},\n",
       " '329': {'first': 2197.8},\n",
       " '399': {'first': 2193.5},\n",
       " 'iPhone': {'first': 1703.4},\n",
       " 'Apple TV': {'first': 2368.1},\n",
       " '999': {'first': 6529.8},\n",
       " 'TV 4K': {'first': 2462.4},\n",
       " 'TV': {'first': 2368.6},\n",
       " 'Apple Watch Series 3': {'first': 1656.6},\n",
       " 'Apple TV 4K': {'first': 2460.1},\n",
       " 'Air Power': {'first': 6235.7}}"
      ]
     },
     "execution_count": 24,
     "metadata": {},
     "output_type": "execute_result"
    }
   ],
   "source": [
    "mentions"
   ]
  },
  {
   "cell_type": "code",
   "execution_count": 25,
   "metadata": {},
   "outputs": [],
   "source": [
    "def show_overview_graph(ax):\n",
    "    ax.bar(t2[0],t2[1],width=0.15/len(t2[0]))\n",
    "    ax.plot(t2[0],ravg, color='orange')\n",
    "\n",
    "    ax.plot(t2[0],[600 if r else 0 for r in trigger], color='red',  linewidth='0.5')\n",
    "    ax.plot([salib.to_date_i(sstart), salib.to_date_i(sstart)], [0,1000], color='red', linewidth='0.5')\n",
    "    ax.plot([salib.to_date_i(sstop), salib.to_date_i(sstop)], [0,1000], color='red', linewidth='0.5')\n",
    "\n",
    "    for a,b in mentions.items():\n",
    "        st = b['first']*1000+sstart\n",
    "        ax.plot([salib.to_date_i(st), salib.to_date_i(st)], [0,1000], color='green', linewidth='0.5')\n",
    "        ax.text(salib.to_date_i(st), 1000, a, horizontalalignment='right',\n",
    "         verticalalignment='top', rotation=90, color='green')\n",
    "\n",
    "\n",
    "    for a,b in mentions_ocr.items():\n",
    "        st = b['first']*1000+sstart\n",
    "        ax.plot([salib.to_date_i(st), salib.to_date_i(st)], [0,1000], color='black', linewidth='0.5')\n",
    "        ax.text(salib.to_date_i(st), 800, a, horizontalalignment='right',\n",
    "         verticalalignment='top', rotation=90, color='black')"
   ]
  },
  {
   "cell_type": "code",
   "execution_count": 26,
   "metadata": {},
   "outputs": [],
   "source": [
    "def find_trigger_points(runningavg_len=20, slope = 1.2,repeat_c=4 ):\n",
    "    Y = t2[1]\n",
    "    slope /= 150\n",
    "    runningavg = np.zeros(runningavg_len)\n",
    "\n",
    "    runningavg_i = 0\n",
    "    runningavg_mu = 0\n",
    "    res = []\n",
    "    restrigger = []\n",
    "    trigger_count = 0\n",
    "    for y in Y:\n",
    "         # Mind. 20% steigung\n",
    "        trigger = runningavg_i >= runningavg_len and res[-1]-res[-2] > slope     \n",
    "        if trigger:\n",
    "            trigger_count+=1\n",
    "        else:\n",
    "            if trigger_count >= repeat_c: # Mind 4 mal hintereinander mit dieser Steigung triggert\n",
    "                restrigger[-trigger_count] = True\n",
    "            trigger_count = 0\n",
    "\n",
    "        restrigger.append(False)\n",
    "\n",
    "        if runningavg_i >= runningavg_len:\n",
    "            runningavg_mu -= runningavg[runningavg_i%runningavg_len]/runningavg_len\n",
    "        runningavg[runningavg_i%runningavg_len] = y\n",
    "        runningavg_mu += y/runningavg_len\n",
    "        res.append(runningavg_mu)\n",
    "        runningavg_i+= 1\n",
    "\n",
    "    return res, restrigger"
   ]
  },
  {
   "cell_type": "code",
   "execution_count": null,
   "metadata": {},
   "outputs": [],
   "source": []
  },
  {
   "cell_type": "code",
   "execution_count": 27,
   "metadata": {},
   "outputs": [],
   "source": [
    "plt.rcParams[\"figure.figsize\"] = (7.5,3.5)\n",
    "rc('font',**{'family':'serif','serif':['Times']})\n",
    "rc('text', usetex=True)"
   ]
  },
  {
   "cell_type": "code",
   "execution_count": 32,
   "metadata": {},
   "outputs": [
    {
     "name": "stdout",
     "output_type": "stream",
     "text": [
      "loading  20170912_AAPL\n"
     ]
    },
    {
     "data": {
      "image/png": "[encoded data removed]",
      "text/plain": [
       "<Figure size 540x252 with 1 Axes>"
      ]
     },
     "metadata": {
      "needs_background": "light"
     },
     "output_type": "display_data"
    }
   ],
   "source": [
    "\n",
    "fig, ax = plt.subplots()\n",
    "\n",
    "g = sa_array[0]['sa'].graphlist['marketorder_num']\n",
    "t2, tbinsize, sstart, sstop = load_graph(sa)\n",
    "ravg, trigger = find_trigger_points(runningavg_len=cv['trigger_param'][0], slope = cv['trigger_param'][1] ,repeat_c=cv['trigger_param'][2])\n",
    "\n",
    "dt =((t2[0][1]-t2[0][0]).total_seconds())\n",
    "ax.bar(t2[0],t2[1]/dt,width=0.15/len(t2[0]))\n",
    "ax.plot(t2[0],np.array(ravg)/dt, color='orange')\n",
    "\n",
    "\n",
    "for i in range(len(trigger)):\n",
    "    if trigger[i]:   \n",
    "        ax.plot([t2[0][i], t2[0][i]], [0,60], color='red', linewidth='0.5',clip_on=True)\n",
    "\n",
    "\n",
    "ax.plot([salib.to_date_i(sstart), salib.to_date_i(sstart)], [0,60], color='green', linewidth='1',clip_on=True)\n",
    "ax.plot([salib.to_date_i(sstop), salib.to_date_i(sstop)], [0,60], color='green', linewidth='1',clip_on=True)\n",
    "\n",
    "\n",
    "def draw(a,b):\n",
    "    st = b['first']*1000+sstart\n",
    "    ax.plot([salib.to_date_i(st), salib.to_date_i(st)], [0,50], color='k', linewidth='0.5')\n",
    "\n",
    "    ax.text(salib.to_date_i(st), 50, a, horizontalalignment='right',\n",
    "     verticalalignment='top', fontsize=8, rotation=90, color='k')#, transform=ax.transAxes)\n",
    "\n",
    "for a,b in mentions.items():\n",
    "    if a not in ['Apple Watch', 'Apple Watch Series 3','electronic Sim','329','Apple TV']:\n",
    "        continue\n",
    "    \n",
    "    draw(a,b)\n",
    "\n",
    "\n",
    "for a,b in mentions_ocr.items():\n",
    "    if a not in ['iPhone 8','699','iPhone X','Air Power','999']:\n",
    "        continue\n",
    "    draw(a,b)\n",
    "\n",
    "ax.set_ylabel('Market order rate in [1/s]')\n",
    "ax.set_xlabel('Time (ET)')\n",
    "ax.set_xlim([salib.to_date_i(12.5*3600*1000),salib.to_date_i(15.4*3600*1000)])    \n",
    "ax.set_ylim([0,60])\n",
    "myFmt = mdates.DateFormatter('%H:%M:%S')\n",
    "ax.xaxis.set_major_formatter(myFmt)\n",
    "\n",
    "plt.tight_layout()\n",
    "fig.savefig(folder+\"res_lob30.pdf\")"
   ]
  },
  {
   "cell_type": "code",
   "execution_count": null,
   "metadata": {},
   "outputs": [],
   "source": []
  },
  {
   "cell_type": "code",
   "execution_count": null,
   "metadata": {},
   "outputs": [],
   "source": []
  },
  {
   "cell_type": "code",
   "execution_count": 29,
   "metadata": {},
   "outputs": [],
   "source": [
    "g = sa_array[0]['sa'].graphlist['marketorder_num']"
   ]
  },
  {
   "cell_type": "code",
   "execution_count": 35,
   "metadata": {
    "scrolled": false
   },
   "outputs": [
    {
     "name": "stderr",
     "output_type": "stream",
     "text": [
      "/opt/conda/lib/python3.7/site-packages/ipykernel_launcher.py:9: UserWarning: This figure includes Axes that are not compatible with tight_layout, so results might be incorrect.\n",
      "  if __name__ == '__main__':\n"
     ]
    },
    {
     "data": {
      "image/png": "[encoded data removed]",
      "text/plain": [
       "<Figure size 540x216 with 2 Axes>"
      ]
     },
     "metadata": {
      "needs_background": "light"
     },
     "output_type": "display_data"
    }
   ],
   "source": [
    "# When are the triggers?\n",
    "tr = t2[0][trigger]\n",
    "graph_pre()\n",
    "for tr_i in [tr[4]]:\n",
    "    fig, ax = plt.subplots()\n",
    "    tr_i -= 1.25 *tbinsize\n",
    "    filte['numbins']=25\n",
    "    filte['range']['time'] = [salib.to_millis(tr_i)-3*60*1000, salib.to_millis(tr_i)+3*60*1000]\n",
    "\n",
    "    t = sa['sa'].calculate_graph(g,f, histogram=True)\n",
    "\n",
    "    dt =((t2[0][1]-t2[0][0]).total_seconds())\n",
    "    ax.bar(t[0],t[1]/dt,width=0.003/len(t[0]))\n",
    "    ax.plot([tr_i, tr_i], [0,50], color='red', linewidth='0.5')\n",
    "    \n",
    "    ax.set_xlim([t[0][0],t[0][-1]])\n",
    "    \n",
    "    # Get video context\n",
    "    video_time = (salib.to_millis(tr_i)-sa['kn']['time_mapping'][0]['stock_time_start'])/1000\n",
    "\n",
    "    if video_time > 0 and video_time < sa['kn']['time_mapping'][0]['video_time_end']:\n",
    "        cap = cv2.VideoCapture(video_hd_folder+'/'+sa['kn']['id']+'.mp4')\n",
    "        fps = cap.get(cv2.CAP_PROP_FPS)\n",
    "        cap.set(cv2.CAP_PROP_POS_FRAMES, fps*video_time)\n",
    "        _,img = cap.read()\n",
    "        img = cv2.cvtColor(img, cv2.COLOR_BGR2RGB)\n",
    "\n",
    "\n",
    "        inset_ax = inset_axes(ax,borderpad=0,\n",
    "                            width=\"30%\", # width = 30% of parent_bbox\n",
    "                            height=2, # height : 1 inch\n",
    "                            loc=2)\n",
    "        inset_ax.axis('off')\n",
    "        inset_ax.imshow(img)\n",
    "    \n",
    "    \n",
    "\n",
    "    for a,b in mentions_ocr.items():\n",
    "        st = b['first']*1000+sstart\n",
    "        ax.plot([salib.to_date_i(st), salib.to_date_i(st)], [0,50], color='black', linewidth='0.5')\n",
    "        ax.text(salib.to_date_i(st), 50, a, horizontalalignment='right', zorder=100,\n",
    "         verticalalignment='top', rotation=90, color='black', clip_on=True)#, transform=ax.transAxes)\n",
    "\n",
    "    myFmt = mdates.DateFormatter('%H:%M:%S')\n",
    "    ax.xaxis.set_major_formatter(myFmt)    \n",
    "    \n",
    "    ax.set_ylabel('Market order rate [in 1/s]')\n",
    "    ax.set_xlabel('Time (ET)')\n",
    "    s = get_subtitles(sa['kn']['id'], video_time-300, video_time+60)\n",
    "    #print ('\\n'.join([str(a['a']/60)+' '+a['s'] for a in s]))\n",
    "    \n",
    "    graph_post()\n",
    "    fig.savefig(folder+\"res_lob31.pdf\")\n",
    "    "
   ]
  },
  {
   "cell_type": "code",
   "execution_count": null,
   "metadata": {},
   "outputs": [],
   "source": []
  },
  {
   "cell_type": "code",
   "execution_count": null,
   "metadata": {},
   "outputs": [],
   "source": []
  },
  {
   "cell_type": "code",
   "execution_count": null,
   "metadata": {},
   "outputs": [],
   "source": []
  },
  {
   "cell_type": "code",
   "execution_count": null,
   "metadata": {},
   "outputs": [],
   "source": []
  }
 ],
 "metadata": {
  "kernelspec": {
   "display_name": "Python 3",
   "language": "python",
   "name": "python3"
  },
  "language_info": {
   "codemirror_mode": {
    "name": "ipython",
    "version": 3
   },
   "file_extension": ".py",
   "mimetype": "text/x-python",
   "name": "python",
   "nbconvert_exporter": "python",
   "pygments_lexer": "ipython3",
   "version": "3.7.1"
  }
 },
 "nbformat": 4,
 "nbformat_minor": 2
}
