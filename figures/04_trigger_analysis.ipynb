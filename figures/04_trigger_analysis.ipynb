{
 "cells": [
  {
   "cell_type": "code",
   "execution_count": 3,
   "metadata": {},
   "outputs": [],
   "source": [
    "import os\n",
    "os.chdir('../app')"
   ]
  },
  {
   "cell_type": "code",
   "execution_count": 4,
   "metadata": {},
   "outputs": [
    {
     "name": "stderr",
     "output_type": "stream",
     "text": [
      "/opt/conda/lib/python3.7/site-packages/pandas/compat/_optional.py:138: UserWarning: Pandas requires version '2.7.0' or newer of 'numexpr' (version '2.6.9' currently installed).\n",
      "  warnings.warn(msg, UserWarning)\n"
     ]
    }
   ],
   "source": [
    "import frontend.stock_analytics as salib\n",
    "import matplotlib.pyplot as plt\n",
    "import matplotlib.dates as mdates\n",
    "from pandas.plotting import register_matplotlib_converters\n",
    "register_matplotlib_converters()\n",
    "from datetime import datetime,timedelta\n",
    "from pprint import pprint\n",
    "import matplotlib.patches as patches\n",
    "import time\n",
    "import numpy as np\n",
    "import datetime\n",
    "import copy\n",
    "import preprocessing.lob.s03_fill_cache as l03\n",
    "import re\n",
    "import preprocessing.preglobal as pg\n",
    "%matplotlib inline"
   ]
  },
  {
   "cell_type": "code",
   "execution_count": 5,
   "metadata": {},
   "outputs": [],
   "source": [
    "import cv2\n",
    "from mpl_toolkits.axes_grid1.inset_locator import inset_axes\n",
    "from pymongo import MongoClient, UpdateMany, UpdateOne, InsertOne\n",
    "import pandas as pd\n",
    "from matplotlib import rc\n",
    "import json"
   ]
  },
  {
   "cell_type": "code",
   "execution_count": 6,
   "metadata": {},
   "outputs": [],
   "source": [
    "url='mongodb://192.168.0.94:27017/'\n",
    "client = MongoClient(url)\n",
    "tbl = client['global']['keynotes']\n",
    "tbl2 = client['global']['timekeys']"
   ]
  },
  {
   "cell_type": "code",
   "execution_count": 7,
   "metadata": {},
   "outputs": [],
   "source": [
    "folder = \"Thesis/generated_figures/\""
   ]
  },
  {
   "cell_type": "code",
   "execution_count": 8,
   "metadata": {},
   "outputs": [],
   "source": [
    "def graph_pre(size=1):\n",
    "    rc('font',**{'family':'serif','serif':['Times']})\n",
    "    rc('text', usetex=True)\n",
    "    h = [0,3,5][size]\n",
    "    \n",
    "    plt.rcParams[\"figure.figsize\"] = (7.5,h)\n",
    "    \n",
    "def graph_post():\n",
    "    plt.tight_layout()"
   ]
  },
  {
   "cell_type": "code",
   "execution_count": null,
   "metadata": {},
   "outputs": [],
   "source": []
  },
  {
   "cell_type": "code",
   "execution_count": null,
   "metadata": {},
   "outputs": [],
   "source": []
  },
  {
   "cell_type": "code",
   "execution_count": 9,
   "metadata": {},
   "outputs": [
    {
     "name": "stdout",
     "output_type": "stream",
     "text": [
      "mongo mongodb://192.168.0.94:27017/\n",
      "load 20190910_AAPL\n",
      "redis 192.168.0.94\n",
      "load 20190325_AAPL\n",
      "redis 192.168.0.94\n",
      "load 20181030_AAPL\n",
      "redis 192.168.0.94\n",
      "load 20180912_AAPL\n",
      "redis 192.168.0.94\n",
      "load 20180604_AAPL\n",
      "redis 192.168.0.94\n",
      "load 20180327_AAPL\n",
      "redis 192.168.0.94\n",
      "load 20170912_AAPL\n",
      "redis 192.168.0.94\n",
      "load 20170605_AAPL\n",
      "redis 192.168.0.94\n",
      "load 20161027_AAPL\n",
      "redis 192.168.0.94\n",
      "load 20160907_AAPL\n",
      "redis 192.168.0.94\n",
      "load 20160613_AAPL\n",
      "redis 192.168.0.94\n",
      "load 20160321_AAPL\n",
      "redis 192.168.0.94\n",
      "load 20150909_AAPL\n",
      "redis 192.168.0.94\n",
      "load 20150608_AAPL\n",
      "redis 192.168.0.94\n",
      "load 20150309_AAPL\n",
      "redis 192.168.0.94\n"
     ]
    }
   ],
   "source": [
    "# Load all Graphs\n",
    "sa_array = []\n",
    "for i in pg.get_kn_entries({'selected':1}):\n",
    "    print('load',i['id'])\n",
    "    sa_array.append({'kn':i,'sa':salib.stock_analytics(i['id'], gui_mode=False)})\n"
   ]
  },
  {
   "cell_type": "code",
   "execution_count": 10,
   "metadata": {},
   "outputs": [],
   "source": [
    "def dobins(ts_array, N = 1000, x_bins=None, useinteger=False, stepsize=None):\n",
    "    ts_array.sort()\n",
    "   \n",
    "    #x_bins = None\n",
    "    \n",
    "    if x_bins is None:\n",
    "        if useinteger:\n",
    "            minp = math.floor(ts_array[0])\n",
    "            maxp = math.ceil(ts_array[-1])\n",
    "            steps = np.ceil((maxp-minp)/N)\n",
    "\n",
    "            x_bins = np.arange(minp, maxp+0.1, steps)\n",
    "\n",
    "        elif stepsize is None:\n",
    "            x_bins = np.linspace(ts_array[0], ts_array[-1], N+1)\n",
    "        else:\n",
    "            x_bins = np.arange(ts_array[0], ts_array[-1], stepsize)\n",
    "            \n",
    "    \n",
    "    N = len(x_bins)-1\n",
    "    \n",
    "    \n",
    "    dt = x_bins[1]-x_bins[0]\n",
    "    x_bins = x_bins[:-1]\n",
    "    y_bins = np.zeros(len(x_bins))\n",
    "    \n",
    "    unique, counts = np.unique(np.floor((ts_array-x_bins[0])/dt), return_counts=True)\n",
    "    unique = unique[:-1]\n",
    "    y_bins[unique.astype(int)] = counts[:-1]\n",
    "    \n",
    "\n",
    "    E  = y_bins.mean()\n",
    "    V = y_bins.var()\n",
    "    #print('V =',V,'; E =',E,'; r(tau) = V/E =', V/E)\n",
    "    return x_bins, y_bins, V/E"
   ]
  },
  {
   "cell_type": "code",
   "execution_count": 11,
   "metadata": {},
   "outputs": [],
   "source": [
    "salib.time_as_string = False\n",
    "filte = copy.deepcopy(sa_array[0]['sa'].filters['default'])\n",
    "g = sa_array[0]['sa'].graphlist['marketorder_num']"
   ]
  },
  {
   "cell_type": "code",
   "execution_count": 12,
   "metadata": {},
   "outputs": [],
   "source": [
    "filte['numbins']=100\n",
    "filte['range']['time'] = [9.6*3600*1000, 15.9*3600*1000]\n",
    "f = filte"
   ]
  },
  {
   "cell_type": "code",
   "execution_count": 14,
   "metadata": {},
   "outputs": [],
   "source": [
    "# from json\n",
    "with open(\"all_results_w_frac.json\", \"r\") as out_file:\n",
    "    all_results_w_frac_json = json.load(out_file)"
   ]
  },
  {
   "cell_type": "code",
   "execution_count": 15,
   "metadata": {},
   "outputs": [],
   "source": [
    "all_results_w_frac = {}\n",
    "for k,v in all_results_w_frac_json.items():\n",
    "    all_results_w_frac[k] = pd.DataFrame(v)"
   ]
  },
  {
   "cell_type": "code",
   "execution_count": 16,
   "metadata": {},
   "outputs": [],
   "source": [
    "# flatten it\n",
    "all_results_flat = pd.DataFrame()\n",
    "for k,v in all_results_w_frac.items():\n",
    "    v['keynote'] = k\n",
    "    all_results_flat = all_results_flat.append(v)"
   ]
  },
  {
   "cell_type": "code",
   "execution_count": 17,
   "metadata": {},
   "outputs": [],
   "source": [
    "pd.set_option('display.max_rows', 500)"
   ]
  },
  {
   "cell_type": "code",
   "execution_count": null,
   "metadata": {},
   "outputs": [],
   "source": []
  },
  {
   "cell_type": "code",
   "execution_count": 19,
   "metadata": {},
   "outputs": [],
   "source": [
    "def load_graph(sa):\n",
    "    sstart = sa['kn']['time_mapping'][0]['stock_time_start']\n",
    "    sstop = sa['kn']['time_mapping'][-1]['stock_time_end']\n",
    "        \n",
    "    return sstart, sstop"
   ]
  },
  {
   "cell_type": "code",
   "execution_count": null,
   "metadata": {},
   "outputs": [],
   "source": []
  },
  {
   "cell_type": "code",
   "execution_count": null,
   "metadata": {},
   "outputs": [],
   "source": []
  },
  {
   "cell_type": "code",
   "execution_count": 22,
   "metadata": {},
   "outputs": [],
   "source": [
    "def get_metadata(row,col):\n",
    "    if pd.isna(row['metadata']):\n",
    "        return \"\"\n",
    "    return list(json.loads(row['metadata'])[col].items())[0][1]"
   ]
  },
  {
   "cell_type": "code",
   "execution_count": 23,
   "metadata": {},
   "outputs": [],
   "source": []
  },
  {
   "cell_type": "code",
   "execution_count": 24,
   "metadata": {},
   "outputs": [],
   "source": [
    "def draw_histogram(ax, dt, rfilter, drawannotations=False, fract='frac_of_total150',label='',axright=False,title=''):\n",
    "    x_bins_orig = np.linspace(-dt/1000,dt/1000, 20)\n",
    "    x_bins = None\n",
    "    y_bins = []\n",
    "\n",
    "    for index, row in rfilter.iterrows():\n",
    "        sa = [sa for sa in sa_array if sa['kn']['id'] == row['keynote']][0]\n",
    "        sstart, sstop = load_graph(sa)\n",
    "        t0 = row['time']*1000 + sstart\n",
    "\n",
    "\n",
    "        cs = sa['sa'].ticks.aggregate([{ \"$match\":{\"timestamp\":{'$gte':t0-dt, '$lte':t0+dt},\n",
    "                                              \"type\":{\"$in\":[\"fill\",\"execute\",\"trade\"]}\n",
    "                                              }} ,\n",
    "                                  {'$project': {\"timestamp\":1\n",
    "                                               }\n",
    "                                  }\n",
    "                                  ]\n",
    "            )\n",
    "        timestamps = [(a['timestamp']-(t0))/1000 for a in cs]\n",
    "        x_bins,b,_ = dobins(timestamps,x_bins=x_bins_orig)\n",
    "        b = b[2:-1]\n",
    "        y_bins.append(b/b.sum())\n",
    "    x_bins = x_bins[2:-1]  \n",
    "\n",
    "    y_bins = np.array(y_bins)*len(b)\n",
    "\n",
    "    xmean = y_bins.mean(axis=0)\n",
    "    xstd = y_bins.std(axis=0)\n",
    "\n",
    "    if ax:\n",
    "        ax.plot(x_bins,xmean,'.')\n",
    "        ax.fill_between(x_bins, xmean-xstd, xmean+xstd, color='grey')\n",
    "        ax.set_ylim([0,None])\n",
    "        ax.axvline(x=0, linewidth=1, color='k')\n",
    "        ax.axhline(y=1, linewidth=1, color='k')\n",
    "        rrt =r'Relative rate $N(t_i)/ \\frac{1}{M} \\sum N(t)$'\n",
    "        ax.set_ylabel(rrt)\n",
    "        if axright:\n",
    "            ax.yaxis.tick_right()\n",
    "            ax.yaxis.labelpad = 15\n",
    "            ax.yaxis.set_label_position(\"right\")\n",
    "            ax.set_ylabel(rrt,rotation=270)\n",
    "            \n",
    "        ax.set_xlabel('Time difference from event $t_i$ [in s]')\n",
    "        ax.set_title(title)\n",
    "    \n",
    "    rfilter['smallrtmp'] = 1/((1/rfilter[fract])-1)\n",
    "    print(label+'& {:.2f} $\\pm$ {:.2f} & {:.2f} $\\pm$ {:.2f} \\\\\\\\'.format(\n",
    "        rfilter['smallrtmp'].mean(),rfilter['smallrtmp'].std(),rfilter[fract].mean(),rfilter[fract].std()))\n",
    "    \n",
    "    if not drawannotations:\n",
    "        return\n",
    "    \n",
    "    def trans(x):\n",
    "        return 1/(1/x - 1)\n",
    "    \n",
    "    drawannotations.get_yaxis().set_visible(False)\n",
    "    drawannotations.set_ylim([0,1.4])\n",
    "    drawannotations.set_xlim([0.3,1.0])\n",
    "    \n",
    "    ax2 = drawannotations.twiny()\n",
    "\n",
    "    def tick_function(X):\n",
    "        V = trans(X)\n",
    "        return [\"%.3f\" % z for z in V]\n",
    "\n",
    "    ax2.set_xlim(drawannotations.get_xlim())\n",
    "    new_tick_locations = drawannotations.get_xticks()\n",
    "    \n",
    "    ax2.set_xticks(new_tick_locations)\n",
    "    ax2.set_xticklabels(tick_function(new_tick_locations))\n",
    "    ax2.set_xlabel(r\"Ratio $r(t)$\")\n",
    "    drawannotations.set_xlabel(r\"Ratio $R(t)$\")\n",
    "\n",
    "    i = 1.3\n",
    "    for _, row in rfilter.sort_values(fract).iterrows():\n",
    "        i -= 0.1\n",
    "\n",
    "        drawannotations.plot([row[fract],row[fract]],[0,i],lw=1,c='k')\n",
    "        drawannotations.text(row[fract], i, tex,\n",
    "                                  {'ha': 'left', 'va': 'bottom'}, rotation=0)\n"
   ]
  },
  {
   "cell_type": "code",
   "execution_count": 28,
   "metadata": {},
   "outputs": [
    {
     "name": "stderr",
     "output_type": "stream",
     "text": [
      "/opt/conda/lib/python3.7/site-packages/ipykernel_launcher.py:50: SettingWithCopyWarning: \n",
      "A value is trying to be set on a copy of a slice from a DataFrame.\n",
      "Try using .loc[row_indexer,col_indexer] = value instead\n",
      "\n",
      "See the caveats in the documentation: https://pandas.pydata.org/pandas-docs/stable/user_guide/indexing.html#returning-a-view-versus-a-copy\n",
      "/opt/conda/lib/python3.7/site-packages/ipykernel_launcher.py:65: RuntimeWarning: divide by zero encountered in true_divide\n"
     ]
    },
    {
     "name": "stdout",
     "output_type": "stream",
     "text": [
      "New iPhones and iPads (at sale price announcement)& 2.92 $\\pm$ 1.72 & 0.69 $\\pm$ 0.14 \\\\\n"
     ]
    },
    {
     "data": {
      "image/png": "[encoded data removed]",
      "text/plain": [
       "<Figure size 540x360 with 3 Axes>"
      ]
     },
     "metadata": {
      "needs_background": "light"
     },
     "output_type": "display_data"
    }
   ],
   "source": [
    "rc('font',**{'family':'serif','serif':['Times']})\n",
    "rc('text', usetex=True)\n",
    "plt.rcParams[\"figure.figsize\"] = (7.5,5)\n",
    "\n",
    "filtered = all_results_flat[[not pd.isna(a) and ('iphone' in a.lower() or 'ipad' in a.lower()) and ('neu' in a.lower()) \n",
    "                             for a in all_results_flat['metadata'] ]]\n",
    "\n",
    "\n",
    "plt.rcParams[\"figure.figsize\"] = (7.5,5)\n",
    "\n",
    "fig,axs = plt.subplots(2)\n",
    "\n",
    "\n",
    "draw_histogram(axs[0], 250*1000, filtered, drawannotations=axs[1], label='New iPhones and iPads (at sale price announcement)',\n",
    "               title='New iPhones and iPads')\n",
    "\n",
    "axs[0].set_ylim([0,2.5])\n",
    "plt.tight_layout()\n",
    "fig.savefig(folder+\"res_lob41.pdf\")\n"
   ]
  },
  {
   "cell_type": "code",
   "execution_count": null,
   "metadata": {},
   "outputs": [],
   "source": []
  },
  {
   "cell_type": "code",
   "execution_count": 27,
   "metadata": {},
   "outputs": [
    {
     "name": "stderr",
     "output_type": "stream",
     "text": [
      "/opt/conda/lib/python3.7/site-packages/ipykernel_launcher.py:50: SettingWithCopyWarning: \n",
      "A value is trying to be set on a copy of a slice from a DataFrame.\n",
      "Try using .loc[row_indexer,col_indexer] = value instead\n",
      "\n",
      "See the caveats in the documentation: https://pandas.pydata.org/pandas-docs/stable/user_guide/indexing.html#returning-a-view-versus-a-copy\n"
     ]
    },
    {
     "name": "stdout",
     "output_type": "stream",
     "text": [
      "keynote start& 2.17 $\\pm$ 1.13 & 0.65 $\\pm$ 0.13 \\\\\n"
     ]
    },
    {
     "name": "stderr",
     "output_type": "stream",
     "text": [
      "/opt/conda/lib/python3.7/site-packages/ipykernel_launcher.py:50: SettingWithCopyWarning: \n",
      "A value is trying to be set on a copy of a slice from a DataFrame.\n",
      "Try using .loc[row_indexer,col_indexer] = value instead\n",
      "\n",
      "See the caveats in the documentation: https://pandas.pydata.org/pandas-docs/stable/user_guide/indexing.html#returning-a-view-versus-a-copy\n"
     ]
    },
    {
     "name": "stdout",
     "output_type": "stream",
     "text": [
      "random $t$& 1.15 $\\pm$ 0.67 & 0.50 $\\pm$ 0.11 \\\\\n"
     ]
    },
    {
     "name": "stderr",
     "output_type": "stream",
     "text": [
      "/opt/conda/lib/python3.7/site-packages/ipykernel_launcher.py:50: SettingWithCopyWarning: \n",
      "A value is trying to be set on a copy of a slice from a DataFrame.\n",
      "Try using .loc[row_indexer,col_indexer] = value instead\n",
      "\n",
      "See the caveats in the documentation: https://pandas.pydata.org/pandas-docs/stable/user_guide/indexing.html#returning-a-view-versus-a-copy\n"
     ]
    },
    {
     "name": "stdout",
     "output_type": "stream",
     "text": [
      "all keywords& 1.17 $\\pm$ 0.49 & 0.52 $\\pm$ 0.10 \\\\\n"
     ]
    },
    {
     "name": "stderr",
     "output_type": "stream",
     "text": [
      "/opt/conda/lib/python3.7/site-packages/ipykernel_launcher.py:50: SettingWithCopyWarning: \n",
      "A value is trying to be set on a copy of a slice from a DataFrame.\n",
      "Try using .loc[row_indexer,col_indexer] = value instead\n",
      "\n",
      "See the caveats in the documentation: https://pandas.pydata.org/pandas-docs/stable/user_guide/indexing.html#returning-a-view-versus-a-copy\n"
     ]
    },
    {
     "name": "stdout",
     "output_type": "stream",
     "text": [
      "new product& 2.14 $\\pm$ 1.56 & 0.62 $\\pm$ 0.15 \\\\\n",
      "new \\textit{iPhone}/\\textit{iPad}& 2.92 $\\pm$ 1.72 & 0.69 $\\pm$ 0.14 \\\\\n"
     ]
    },
    {
     "data": {
      "image/png": "[encoded data removed]",
      "text/plain": [
       "<Figure size 540x360 with 4 Axes>"
      ]
     },
     "metadata": {
      "needs_background": "light"
     },
     "output_type": "display_data"
    }
   ],
   "source": [
    "rc('font',**{'family':'serif','serif':['Times']})\n",
    "rc('text', usetex=True)\n",
    "plt.rcParams[\"figure.figsize\"] = (7.5,5)\n",
    "\n",
    "filte['numbins']=100\n",
    "filte['range']['time'] = [9.5*3600*1000, 16.*3600*1000] \n",
    "fig,axs = plt.subplots(2,2)\n",
    "\n",
    "draw_histogram(axs[0][0], 10*60*1000, all_results_flat[all_results_flat['src'] == 'kn_start'], fract='frac_of_total600',\n",
    "              label='keynote start',title='Start of keynote')\n",
    "draw_histogram(axs[0][1], 250*1000, all_results_flat[all_results_flat['src'] == 'random_kn'],\n",
    "              label='random $t$',axright=True,title='Random time')\n",
    "draw_histogram(axs[1][0], 250*1000, all_results_flat[(all_results_flat['src'] == 'keyword_ocr') | (all_results_flat['src'] == 'keyword_subs')],\n",
    "              label='all keywords',title='All keywords')\n",
    "filtered = all_results_flat[[not pd.isna(a) and ('neu' in a.lower()) \n",
    "                             for a in all_results_flat['metadata'] ]]\n",
    "draw_histogram(axs[1][1], 250*1000, filtered,\n",
    "              label='new product',axright=True,title='New products')\n",
    "\n",
    "for axa in axs:\n",
    "    for ax in axa:\n",
    "        ax.set_ylim([0,2.5])\n",
    "\n",
    "filtered2 = all_results_flat[[not pd.isna(a) and ('iphone' in a.lower() or 'ipad' in a.lower()) and ('neu' in a.lower()) \n",
    "                             for a in all_results_flat['metadata'] ]]\n",
    "draw_histogram(None, 250*1000, filtered2,  label='new \\\\textit{iPhone}/\\\\textit{iPad}')\n",
    "plt.tight_layout()\n",
    "fig.savefig(folder+\"res_lob40.pdf\")\n"
   ]
  },
  {
   "cell_type": "code",
   "execution_count": null,
   "metadata": {},
   "outputs": [],
   "source": []
  }
 ],
 "metadata": {
  "kernelspec": {
   "display_name": "Python 3",
   "language": "python",
   "name": "python3"
  },
  "language_info": {
   "codemirror_mode": {
    "name": "ipython",
    "version": 3
   },
   "file_extension": ".py",
   "mimetype": "text/x-python",
   "name": "python",
   "nbconvert_exporter": "python",
   "pygments_lexer": "ipython3",
   "version": "3.7.1"
  }
 },
 "nbformat": 4,
 "nbformat_minor": 2
}
